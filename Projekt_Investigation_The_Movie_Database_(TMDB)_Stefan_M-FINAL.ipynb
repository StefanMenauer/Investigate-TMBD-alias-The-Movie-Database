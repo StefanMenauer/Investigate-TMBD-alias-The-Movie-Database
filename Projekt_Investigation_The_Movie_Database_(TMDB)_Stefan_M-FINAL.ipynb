{
 "cells": [
  {
   "cell_type": "markdown",
   "metadata": {},
   "source": [
    "# Project: Investigate The Movie Database (TMDB) Data\n",
    "\n",
    "## Table of Contents\n",
    "<ul>\n",
    "<li><a href=\"#intro\">Introduction</a></li>\n",
    "<li><a href=\"#wrangling\">Data Wrangling</a></li>\n",
    "<li><a href=\"#eda\">Exploratory Data Analysis</a></li>\n",
    "<li><a href=\"#conclusions\">Conclusions</a></li>\n",
    "</ul>"
   ]
  },
  {
   "cell_type": "markdown",
   "metadata": {},
   "source": [
    "<a id='intro'></a>\n",
    "# Introduction\n",
    "\n",
    "Let me introduce you my investigation of TMDB Data.\n",
    "\n",
    "Personally I'm very interested in movies & series. Therefore it's my intentiton to explore & analyze this dataset of movies and answer some questions that I will show in a few lines below.\n",
    "\n",
    "\n",
    "## Description of the dataset\n",
    "\n",
    "First of all, the data itself belongs to the official website of The Movie Database (TMDB) with the url: https://www.themoviedb.org\n",
    "\n",
    "The raw dataset contains more than 10,000 movies, including user ratings, budget, revenue, director, actor, genre etc. that I will also show you in a few line below.\n",
    "\n",
    "It comes with a detailed shape of 10866 rows and 21 columns.\n",
    "\n",
    "\n",
    "\n",
    "## Questions that will be answered:\n",
    "\n",
    "1. **Do the films with the highest budgets also bring in a high revenue? And what's about the winnings?**\n",
    "    \n",
    "    a) What are the most top10 movies with the highest budgets?\n",
    "    \n",
    "    b) What are the most top 10 movies with the highest revenues?\n",
    "    \n",
    "    c) What are the most top 10 movies with the highest winnings?\n",
    "    \n",
    "    d) What are the most top 10 movies with the lowest winnings?\n",
    "    \n",
    "    e) What are the average budgets, revenues and winnings by years?\n",
    "    \n",
    "    f) Is there a correlation between budgets and revenues?\n",
    "    \n",
    "    g) Is there a correlation between budgets and winnings?\n",
    "    \n",
    "    h) Is there a correlation winnings and revenues?\n",
    "    \n",
    "    \n",
    "2. **Does the genre of a movie affect it's running time?**\n",
    "    \n",
    "    a) What are the average running times of films over the years?\n",
    "    \n",
    "    b) How is the distribution of the genres regarding to the movies?\n",
    "    \n",
    "    c) What is the distribution of runtimes regarding to the different genres?\n",
    "    \n",
    "    \n",
    "3. **Which specific genres brings the most winnings?**\n",
    "\n",
    "     a) What are the budgets of movies by genres?\n",
    "\n",
    "     b) What are the revenues of movies by genres?\n",
    "\n",
    "     c) How big are the budgets and revenues of each movie by genres?\n",
    "\n",
    "     d) How big are the winnings and revenues of each movie by genres?\n",
    "\n",
    "     e) Does the revenues also got a strong correlation to winnings by movie genres?\n",
    "\n",
    "\n",
    "4. **Bonus Questions:**\n",
    "\n",
    "     4.1 What are the characteristics of the most casted actor?\n",
    "\n",
    "        a) What are the top 10 actors?\n",
    "\n",
    "        b) Was he only in high-budget films during his career?\n",
    "\n",
    "        c) What is the distribution of Robert De Niro's average votings for his movies?\n",
    "\n",
    "        d) What are the mean average votings from Robert De Niro by different movie budget classes?\n",
    "       \n",
    "     4.2 What is the distribution ov movie runtimes within their runtime labels?\n",
    "\n",
    "     4.3 What is the distribution of movie voting counts labels?\n",
    "\n",
    "     4.4 What is the distribution of rating classes groubpy voting counts labels?\n",
    "     \n",
    "     4.5 Who are the top 20 production companies of movies with \"many\" counted votes and a \"premium\" budget? "
   ]
  },
  {
   "cell_type": "code",
   "execution_count": 1,
   "metadata": {},
   "outputs": [],
   "source": [
    "# imports\n",
    "import pandas as pd\n",
    "import numpy as np\n",
    "import seaborn as sns\n",
    "sns.set()\n",
    "import matplotlib.pyplot as plt\n",
    "%matplotlib inline\n",
    "import datetime"
   ]
  },
  {
   "cell_type": "markdown",
   "metadata": {},
   "source": [
    "<a id='wrangling'></a>\n",
    "# Data Wrangling\n",
    "\n",
    "## General Properties"
   ]
  },
  {
   "cell_type": "code",
   "execution_count": 2,
   "metadata": {},
   "outputs": [
    {
     "data": {
      "text/html": [
       "<div>\n",
       "<style scoped>\n",
       "    .dataframe tbody tr th:only-of-type {\n",
       "        vertical-align: middle;\n",
       "    }\n",
       "\n",
       "    .dataframe tbody tr th {\n",
       "        vertical-align: top;\n",
       "    }\n",
       "\n",
       "    .dataframe thead th {\n",
       "        text-align: right;\n",
       "    }\n",
       "</style>\n",
       "<table border=\"1\" class=\"dataframe\">\n",
       "  <thead>\n",
       "    <tr style=\"text-align: right;\">\n",
       "      <th></th>\n",
       "      <th>id</th>\n",
       "      <th>imdb_id</th>\n",
       "      <th>popularity</th>\n",
       "      <th>budget</th>\n",
       "      <th>revenue</th>\n",
       "      <th>original_title</th>\n",
       "      <th>cast</th>\n",
       "      <th>homepage</th>\n",
       "      <th>director</th>\n",
       "      <th>tagline</th>\n",
       "      <th>...</th>\n",
       "      <th>overview</th>\n",
       "      <th>runtime</th>\n",
       "      <th>genres</th>\n",
       "      <th>production_companies</th>\n",
       "      <th>release_date</th>\n",
       "      <th>vote_count</th>\n",
       "      <th>vote_average</th>\n",
       "      <th>release_year</th>\n",
       "      <th>budget_adj</th>\n",
       "      <th>revenue_adj</th>\n",
       "    </tr>\n",
       "  </thead>\n",
       "  <tbody>\n",
       "    <tr>\n",
       "      <th>0</th>\n",
       "      <td>135397</td>\n",
       "      <td>tt0369610</td>\n",
       "      <td>32.985763</td>\n",
       "      <td>150000000</td>\n",
       "      <td>1513528810</td>\n",
       "      <td>Jurassic World</td>\n",
       "      <td>Chris Pratt|Bryce Dallas Howard|Irrfan Khan|Vi...</td>\n",
       "      <td>http://www.jurassicworld.com/</td>\n",
       "      <td>Colin Trevorrow</td>\n",
       "      <td>The park is open.</td>\n",
       "      <td>...</td>\n",
       "      <td>Twenty-two years after the events of Jurassic ...</td>\n",
       "      <td>124</td>\n",
       "      <td>Action|Adventure|Science Fiction|Thriller</td>\n",
       "      <td>Universal Studios|Amblin Entertainment|Legenda...</td>\n",
       "      <td>6/9/15</td>\n",
       "      <td>5562</td>\n",
       "      <td>6.5</td>\n",
       "      <td>2015</td>\n",
       "      <td>1.379999e+08</td>\n",
       "      <td>1.392446e+09</td>\n",
       "    </tr>\n",
       "    <tr>\n",
       "      <th>1</th>\n",
       "      <td>76341</td>\n",
       "      <td>tt1392190</td>\n",
       "      <td>28.419936</td>\n",
       "      <td>150000000</td>\n",
       "      <td>378436354</td>\n",
       "      <td>Mad Max: Fury Road</td>\n",
       "      <td>Tom Hardy|Charlize Theron|Hugh Keays-Byrne|Nic...</td>\n",
       "      <td>http://www.madmaxmovie.com/</td>\n",
       "      <td>George Miller</td>\n",
       "      <td>What a Lovely Day.</td>\n",
       "      <td>...</td>\n",
       "      <td>An apocalyptic story set in the furthest reach...</td>\n",
       "      <td>120</td>\n",
       "      <td>Action|Adventure|Science Fiction|Thriller</td>\n",
       "      <td>Village Roadshow Pictures|Kennedy Miller Produ...</td>\n",
       "      <td>5/13/15</td>\n",
       "      <td>6185</td>\n",
       "      <td>7.1</td>\n",
       "      <td>2015</td>\n",
       "      <td>1.379999e+08</td>\n",
       "      <td>3.481613e+08</td>\n",
       "    </tr>\n",
       "    <tr>\n",
       "      <th>2</th>\n",
       "      <td>262500</td>\n",
       "      <td>tt2908446</td>\n",
       "      <td>13.112507</td>\n",
       "      <td>110000000</td>\n",
       "      <td>295238201</td>\n",
       "      <td>Insurgent</td>\n",
       "      <td>Shailene Woodley|Theo James|Kate Winslet|Ansel...</td>\n",
       "      <td>http://www.thedivergentseries.movie/#insurgent</td>\n",
       "      <td>Robert Schwentke</td>\n",
       "      <td>One Choice Can Destroy You</td>\n",
       "      <td>...</td>\n",
       "      <td>Beatrice Prior must confront her inner demons ...</td>\n",
       "      <td>119</td>\n",
       "      <td>Adventure|Science Fiction|Thriller</td>\n",
       "      <td>Summit Entertainment|Mandeville Films|Red Wago...</td>\n",
       "      <td>3/18/15</td>\n",
       "      <td>2480</td>\n",
       "      <td>6.3</td>\n",
       "      <td>2015</td>\n",
       "      <td>1.012000e+08</td>\n",
       "      <td>2.716190e+08</td>\n",
       "    </tr>\n",
       "    <tr>\n",
       "      <th>3</th>\n",
       "      <td>140607</td>\n",
       "      <td>tt2488496</td>\n",
       "      <td>11.173104</td>\n",
       "      <td>200000000</td>\n",
       "      <td>2068178225</td>\n",
       "      <td>Star Wars: The Force Awakens</td>\n",
       "      <td>Harrison Ford|Mark Hamill|Carrie Fisher|Adam D...</td>\n",
       "      <td>http://www.starwars.com/films/star-wars-episod...</td>\n",
       "      <td>J.J. Abrams</td>\n",
       "      <td>Every generation has a story.</td>\n",
       "      <td>...</td>\n",
       "      <td>Thirty years after defeating the Galactic Empi...</td>\n",
       "      <td>136</td>\n",
       "      <td>Action|Adventure|Science Fiction|Fantasy</td>\n",
       "      <td>Lucasfilm|Truenorth Productions|Bad Robot</td>\n",
       "      <td>12/15/15</td>\n",
       "      <td>5292</td>\n",
       "      <td>7.5</td>\n",
       "      <td>2015</td>\n",
       "      <td>1.839999e+08</td>\n",
       "      <td>1.902723e+09</td>\n",
       "    </tr>\n",
       "    <tr>\n",
       "      <th>4</th>\n",
       "      <td>168259</td>\n",
       "      <td>tt2820852</td>\n",
       "      <td>9.335014</td>\n",
       "      <td>190000000</td>\n",
       "      <td>1506249360</td>\n",
       "      <td>Furious 7</td>\n",
       "      <td>Vin Diesel|Paul Walker|Jason Statham|Michelle ...</td>\n",
       "      <td>http://www.furious7.com/</td>\n",
       "      <td>James Wan</td>\n",
       "      <td>Vengeance Hits Home</td>\n",
       "      <td>...</td>\n",
       "      <td>Deckard Shaw seeks revenge against Dominic Tor...</td>\n",
       "      <td>137</td>\n",
       "      <td>Action|Crime|Thriller</td>\n",
       "      <td>Universal Pictures|Original Film|Media Rights ...</td>\n",
       "      <td>4/1/15</td>\n",
       "      <td>2947</td>\n",
       "      <td>7.3</td>\n",
       "      <td>2015</td>\n",
       "      <td>1.747999e+08</td>\n",
       "      <td>1.385749e+09</td>\n",
       "    </tr>\n",
       "  </tbody>\n",
       "</table>\n",
       "<p>5 rows × 21 columns</p>\n",
       "</div>"
      ],
      "text/plain": [
       "       id    imdb_id  popularity     budget     revenue  \\\n",
       "0  135397  tt0369610   32.985763  150000000  1513528810   \n",
       "1   76341  tt1392190   28.419936  150000000   378436354   \n",
       "2  262500  tt2908446   13.112507  110000000   295238201   \n",
       "3  140607  tt2488496   11.173104  200000000  2068178225   \n",
       "4  168259  tt2820852    9.335014  190000000  1506249360   \n",
       "\n",
       "                 original_title  \\\n",
       "0                Jurassic World   \n",
       "1            Mad Max: Fury Road   \n",
       "2                     Insurgent   \n",
       "3  Star Wars: The Force Awakens   \n",
       "4                     Furious 7   \n",
       "\n",
       "                                                cast  \\\n",
       "0  Chris Pratt|Bryce Dallas Howard|Irrfan Khan|Vi...   \n",
       "1  Tom Hardy|Charlize Theron|Hugh Keays-Byrne|Nic...   \n",
       "2  Shailene Woodley|Theo James|Kate Winslet|Ansel...   \n",
       "3  Harrison Ford|Mark Hamill|Carrie Fisher|Adam D...   \n",
       "4  Vin Diesel|Paul Walker|Jason Statham|Michelle ...   \n",
       "\n",
       "                                            homepage          director  \\\n",
       "0                      http://www.jurassicworld.com/   Colin Trevorrow   \n",
       "1                        http://www.madmaxmovie.com/     George Miller   \n",
       "2     http://www.thedivergentseries.movie/#insurgent  Robert Schwentke   \n",
       "3  http://www.starwars.com/films/star-wars-episod...       J.J. Abrams   \n",
       "4                           http://www.furious7.com/         James Wan   \n",
       "\n",
       "                         tagline  ...  \\\n",
       "0              The park is open.  ...   \n",
       "1             What a Lovely Day.  ...   \n",
       "2     One Choice Can Destroy You  ...   \n",
       "3  Every generation has a story.  ...   \n",
       "4            Vengeance Hits Home  ...   \n",
       "\n",
       "                                            overview runtime  \\\n",
       "0  Twenty-two years after the events of Jurassic ...     124   \n",
       "1  An apocalyptic story set in the furthest reach...     120   \n",
       "2  Beatrice Prior must confront her inner demons ...     119   \n",
       "3  Thirty years after defeating the Galactic Empi...     136   \n",
       "4  Deckard Shaw seeks revenge against Dominic Tor...     137   \n",
       "\n",
       "                                      genres  \\\n",
       "0  Action|Adventure|Science Fiction|Thriller   \n",
       "1  Action|Adventure|Science Fiction|Thriller   \n",
       "2         Adventure|Science Fiction|Thriller   \n",
       "3   Action|Adventure|Science Fiction|Fantasy   \n",
       "4                      Action|Crime|Thriller   \n",
       "\n",
       "                                production_companies release_date vote_count  \\\n",
       "0  Universal Studios|Amblin Entertainment|Legenda...       6/9/15       5562   \n",
       "1  Village Roadshow Pictures|Kennedy Miller Produ...      5/13/15       6185   \n",
       "2  Summit Entertainment|Mandeville Films|Red Wago...      3/18/15       2480   \n",
       "3          Lucasfilm|Truenorth Productions|Bad Robot     12/15/15       5292   \n",
       "4  Universal Pictures|Original Film|Media Rights ...       4/1/15       2947   \n",
       "\n",
       "   vote_average  release_year    budget_adj   revenue_adj  \n",
       "0           6.5          2015  1.379999e+08  1.392446e+09  \n",
       "1           7.1          2015  1.379999e+08  3.481613e+08  \n",
       "2           6.3          2015  1.012000e+08  2.716190e+08  \n",
       "3           7.5          2015  1.839999e+08  1.902723e+09  \n",
       "4           7.3          2015  1.747999e+08  1.385749e+09  \n",
       "\n",
       "[5 rows x 21 columns]"
      ]
     },
     "execution_count": 2,
     "metadata": {},
     "output_type": "execute_result"
    }
   ],
   "source": [
    "# read in the csv-file and have a short preview at the data:\n",
    "df = pd.read_csv('tmdb-movies.csv')\n",
    "df.head()"
   ]
  },
  {
   "cell_type": "code",
   "execution_count": 3,
   "metadata": {
    "scrolled": false
   },
   "outputs": [
    {
     "name": "stdout",
     "output_type": "stream",
     "text": [
      "<class 'pandas.core.frame.DataFrame'>\n",
      "RangeIndex: 10866 entries, 0 to 10865\n",
      "Data columns (total 21 columns):\n",
      " #   Column                Non-Null Count  Dtype  \n",
      "---  ------                --------------  -----  \n",
      " 0   id                    10866 non-null  int64  \n",
      " 1   imdb_id               10856 non-null  object \n",
      " 2   popularity            10866 non-null  float64\n",
      " 3   budget                10866 non-null  int64  \n",
      " 4   revenue               10866 non-null  int64  \n",
      " 5   original_title        10866 non-null  object \n",
      " 6   cast                  10790 non-null  object \n",
      " 7   homepage              2936 non-null   object \n",
      " 8   director              10822 non-null  object \n",
      " 9   tagline               8042 non-null   object \n",
      " 10  keywords              9373 non-null   object \n",
      " 11  overview              10862 non-null  object \n",
      " 12  runtime               10866 non-null  int64  \n",
      " 13  genres                10843 non-null  object \n",
      " 14  production_companies  9836 non-null   object \n",
      " 15  release_date          10866 non-null  object \n",
      " 16  vote_count            10866 non-null  int64  \n",
      " 17  vote_average          10866 non-null  float64\n",
      " 18  release_year          10866 non-null  int64  \n",
      " 19  budget_adj            10866 non-null  float64\n",
      " 20  revenue_adj           10866 non-null  float64\n",
      "dtypes: float64(4), int64(6), object(11)\n",
      "memory usage: 1.7+ MB\n"
     ]
    }
   ],
   "source": [
    "# looking for names, dtypes and missing data for each column \n",
    "df.info()"
   ]
  },
  {
   "cell_type": "markdown",
   "metadata": {},
   "source": [
    "Using info shows us, that we are talking about 10866 entries and 21 columns.\n",
    "\n",
    "There are no spaces at the column names, but I will rename some of them for a shorter and better understanding. \n",
    "\n",
    "There are some missing data in a few columns like homepage or productions_companies for example.   \n",
    "  Therefore we will get another view about the missing values in the next line of code. \n",
    "\n",
    "Looking at dtype gives us the hint, that we have to handle 3 different data types here (int64, float64 and object).   \n",
    "  For example we should cast the column release_date from an object into a datetime for an easier use of different methods later. "
   ]
  },
  {
   "cell_type": "code",
   "execution_count": 4,
   "metadata": {
    "scrolled": false
   },
   "outputs": [
    {
     "data": {
      "text/plain": [
       "id                         0\n",
       "imdb_id                   10\n",
       "popularity                 0\n",
       "budget                     0\n",
       "revenue                    0\n",
       "original_title             0\n",
       "cast                      76\n",
       "homepage                7930\n",
       "director                  44\n",
       "tagline                 2824\n",
       "keywords                1493\n",
       "overview                   4\n",
       "runtime                    0\n",
       "genres                    23\n",
       "production_companies    1030\n",
       "release_date               0\n",
       "vote_count                 0\n",
       "vote_average               0\n",
       "release_year               0\n",
       "budget_adj                 0\n",
       "revenue_adj                0\n",
       "dtype: int64"
      ]
     },
     "execution_count": 4,
     "metadata": {},
     "output_type": "execute_result"
    }
   ],
   "source": [
    "df.isnull().sum()"
   ]
  },
  {
   "cell_type": "markdown",
   "metadata": {},
   "source": [
    "As we can see, there are different amounts of missing values in the specific columns, which we gonna have to handle in the data cleaning section."
   ]
  },
  {
   "cell_type": "code",
   "execution_count": 5,
   "metadata": {},
   "outputs": [
    {
     "name": "stdout",
     "output_type": "stream",
     "text": [
      "Amount of duplicated rows:  1\n"
     ]
    }
   ],
   "source": [
    "# shows amount of duplicated rows:\n",
    "print('Amount of duplicated rows: ',df.duplicated().sum())"
   ]
  },
  {
   "cell_type": "code",
   "execution_count": 6,
   "metadata": {},
   "outputs": [
    {
     "data": {
      "text/html": [
       "<div>\n",
       "<style scoped>\n",
       "    .dataframe tbody tr th:only-of-type {\n",
       "        vertical-align: middle;\n",
       "    }\n",
       "\n",
       "    .dataframe tbody tr th {\n",
       "        vertical-align: top;\n",
       "    }\n",
       "\n",
       "    .dataframe thead th {\n",
       "        text-align: right;\n",
       "    }\n",
       "</style>\n",
       "<table border=\"1\" class=\"dataframe\">\n",
       "  <thead>\n",
       "    <tr style=\"text-align: right;\">\n",
       "      <th></th>\n",
       "      <th>id</th>\n",
       "      <th>imdb_id</th>\n",
       "      <th>popularity</th>\n",
       "      <th>budget</th>\n",
       "      <th>revenue</th>\n",
       "      <th>original_title</th>\n",
       "      <th>cast</th>\n",
       "      <th>homepage</th>\n",
       "      <th>director</th>\n",
       "      <th>tagline</th>\n",
       "      <th>...</th>\n",
       "      <th>overview</th>\n",
       "      <th>runtime</th>\n",
       "      <th>genres</th>\n",
       "      <th>production_companies</th>\n",
       "      <th>release_date</th>\n",
       "      <th>vote_count</th>\n",
       "      <th>vote_average</th>\n",
       "      <th>release_year</th>\n",
       "      <th>budget_adj</th>\n",
       "      <th>revenue_adj</th>\n",
       "    </tr>\n",
       "  </thead>\n",
       "  <tbody>\n",
       "    <tr>\n",
       "      <th>2090</th>\n",
       "      <td>42194</td>\n",
       "      <td>tt0411951</td>\n",
       "      <td>0.59643</td>\n",
       "      <td>30000000</td>\n",
       "      <td>967000</td>\n",
       "      <td>TEKKEN</td>\n",
       "      <td>Jon Foo|Kelly Overton|Cary-Hiroyuki Tagawa|Ian...</td>\n",
       "      <td>NaN</td>\n",
       "      <td>Dwight H. Little</td>\n",
       "      <td>Survival is no game</td>\n",
       "      <td>...</td>\n",
       "      <td>In the year of 2039, after World Wars destroy ...</td>\n",
       "      <td>92</td>\n",
       "      <td>Crime|Drama|Action|Thriller|Science Fiction</td>\n",
       "      <td>Namco|Light Song Films</td>\n",
       "      <td>3/20/10</td>\n",
       "      <td>110</td>\n",
       "      <td>5.0</td>\n",
       "      <td>2010</td>\n",
       "      <td>30000000.0</td>\n",
       "      <td>967000.0</td>\n",
       "    </tr>\n",
       "  </tbody>\n",
       "</table>\n",
       "<p>1 rows × 21 columns</p>\n",
       "</div>"
      ],
      "text/plain": [
       "         id    imdb_id  popularity    budget  revenue original_title  \\\n",
       "2090  42194  tt0411951     0.59643  30000000   967000         TEKKEN   \n",
       "\n",
       "                                                   cast homepage  \\\n",
       "2090  Jon Foo|Kelly Overton|Cary-Hiroyuki Tagawa|Ian...      NaN   \n",
       "\n",
       "              director              tagline  ...  \\\n",
       "2090  Dwight H. Little  Survival is no game  ...   \n",
       "\n",
       "                                               overview runtime  \\\n",
       "2090  In the year of 2039, after World Wars destroy ...      92   \n",
       "\n",
       "                                           genres    production_companies  \\\n",
       "2090  Crime|Drama|Action|Thriller|Science Fiction  Namco|Light Song Films   \n",
       "\n",
       "     release_date vote_count  vote_average  release_year  budget_adj  \\\n",
       "2090      3/20/10        110           5.0          2010  30000000.0   \n",
       "\n",
       "      revenue_adj  \n",
       "2090     967000.0  \n",
       "\n",
       "[1 rows x 21 columns]"
      ]
     },
     "execution_count": 6,
     "metadata": {},
     "output_type": "execute_result"
    }
   ],
   "source": [
    "# shows the duplicated row in detail:\n",
    "df[df.duplicated()]"
   ]
  },
  {
   "cell_type": "code",
   "execution_count": 7,
   "metadata": {},
   "outputs": [
    {
     "data": {
      "text/html": [
       "<div>\n",
       "<style scoped>\n",
       "    .dataframe tbody tr th:only-of-type {\n",
       "        vertical-align: middle;\n",
       "    }\n",
       "\n",
       "    .dataframe tbody tr th {\n",
       "        vertical-align: top;\n",
       "    }\n",
       "\n",
       "    .dataframe thead th {\n",
       "        text-align: right;\n",
       "    }\n",
       "</style>\n",
       "<table border=\"1\" class=\"dataframe\">\n",
       "  <thead>\n",
       "    <tr style=\"text-align: right;\">\n",
       "      <th></th>\n",
       "      <th>id</th>\n",
       "      <th>imdb_id</th>\n",
       "      <th>popularity</th>\n",
       "      <th>budget</th>\n",
       "      <th>revenue</th>\n",
       "      <th>original_title</th>\n",
       "      <th>cast</th>\n",
       "      <th>homepage</th>\n",
       "      <th>director</th>\n",
       "      <th>tagline</th>\n",
       "      <th>...</th>\n",
       "      <th>overview</th>\n",
       "      <th>runtime</th>\n",
       "      <th>genres</th>\n",
       "      <th>production_companies</th>\n",
       "      <th>release_date</th>\n",
       "      <th>vote_count</th>\n",
       "      <th>vote_average</th>\n",
       "      <th>release_year</th>\n",
       "      <th>budget_adj</th>\n",
       "      <th>revenue_adj</th>\n",
       "    </tr>\n",
       "  </thead>\n",
       "  <tbody>\n",
       "    <tr>\n",
       "      <th>2089</th>\n",
       "      <td>42194</td>\n",
       "      <td>tt0411951</td>\n",
       "      <td>0.59643</td>\n",
       "      <td>30000000</td>\n",
       "      <td>967000</td>\n",
       "      <td>TEKKEN</td>\n",
       "      <td>Jon Foo|Kelly Overton|Cary-Hiroyuki Tagawa|Ian...</td>\n",
       "      <td>NaN</td>\n",
       "      <td>Dwight H. Little</td>\n",
       "      <td>Survival is no game</td>\n",
       "      <td>...</td>\n",
       "      <td>In the year of 2039, after World Wars destroy ...</td>\n",
       "      <td>92</td>\n",
       "      <td>Crime|Drama|Action|Thriller|Science Fiction</td>\n",
       "      <td>Namco|Light Song Films</td>\n",
       "      <td>3/20/10</td>\n",
       "      <td>110</td>\n",
       "      <td>5.0</td>\n",
       "      <td>2010</td>\n",
       "      <td>30000000.0</td>\n",
       "      <td>967000.0</td>\n",
       "    </tr>\n",
       "    <tr>\n",
       "      <th>2090</th>\n",
       "      <td>42194</td>\n",
       "      <td>tt0411951</td>\n",
       "      <td>0.59643</td>\n",
       "      <td>30000000</td>\n",
       "      <td>967000</td>\n",
       "      <td>TEKKEN</td>\n",
       "      <td>Jon Foo|Kelly Overton|Cary-Hiroyuki Tagawa|Ian...</td>\n",
       "      <td>NaN</td>\n",
       "      <td>Dwight H. Little</td>\n",
       "      <td>Survival is no game</td>\n",
       "      <td>...</td>\n",
       "      <td>In the year of 2039, after World Wars destroy ...</td>\n",
       "      <td>92</td>\n",
       "      <td>Crime|Drama|Action|Thriller|Science Fiction</td>\n",
       "      <td>Namco|Light Song Films</td>\n",
       "      <td>3/20/10</td>\n",
       "      <td>110</td>\n",
       "      <td>5.0</td>\n",
       "      <td>2010</td>\n",
       "      <td>30000000.0</td>\n",
       "      <td>967000.0</td>\n",
       "    </tr>\n",
       "  </tbody>\n",
       "</table>\n",
       "<p>2 rows × 21 columns</p>\n",
       "</div>"
      ],
      "text/plain": [
       "         id    imdb_id  popularity    budget  revenue original_title  \\\n",
       "2089  42194  tt0411951     0.59643  30000000   967000         TEKKEN   \n",
       "2090  42194  tt0411951     0.59643  30000000   967000         TEKKEN   \n",
       "\n",
       "                                                   cast homepage  \\\n",
       "2089  Jon Foo|Kelly Overton|Cary-Hiroyuki Tagawa|Ian...      NaN   \n",
       "2090  Jon Foo|Kelly Overton|Cary-Hiroyuki Tagawa|Ian...      NaN   \n",
       "\n",
       "              director              tagline  ...  \\\n",
       "2089  Dwight H. Little  Survival is no game  ...   \n",
       "2090  Dwight H. Little  Survival is no game  ...   \n",
       "\n",
       "                                               overview runtime  \\\n",
       "2089  In the year of 2039, after World Wars destroy ...      92   \n",
       "2090  In the year of 2039, after World Wars destroy ...      92   \n",
       "\n",
       "                                           genres    production_companies  \\\n",
       "2089  Crime|Drama|Action|Thriller|Science Fiction  Namco|Light Song Films   \n",
       "2090  Crime|Drama|Action|Thriller|Science Fiction  Namco|Light Song Films   \n",
       "\n",
       "     release_date vote_count  vote_average  release_year  budget_adj  \\\n",
       "2089      3/20/10        110           5.0          2010  30000000.0   \n",
       "2090      3/20/10        110           5.0          2010  30000000.0   \n",
       "\n",
       "      revenue_adj  \n",
       "2089     967000.0  \n",
       "2090     967000.0  \n",
       "\n",
       "[2 rows x 21 columns]"
      ]
     },
     "execution_count": 7,
     "metadata": {},
     "output_type": "execute_result"
    }
   ],
   "source": [
    "# double check the dubplicated row:\n",
    "df[df['id']==42194]"
   ]
  },
  {
   "cell_type": "markdown",
   "metadata": {},
   "source": [
    "There is also only one duplicated row in this dataset, that belongs to the id 42194, which we can clear in the next section."
   ]
  },
  {
   "cell_type": "markdown",
   "metadata": {},
   "source": [
    "## Data Cleaning"
   ]
  },
  {
   "cell_type": "markdown",
   "metadata": {
    "collapsed": true
   },
   "source": [
    "#### After discussing the structure of the data and any problems that need to be cleaned, perform those cleaning steps in the second part of this section.\n",
    "In this section, we are gonna clean our dataset with the following steps:\n",
    "\n",
    "1. Delete all columns which are not relevant for our data analysis\n",
    "2. Remove the duplicated row(s)\n",
    "3. Change dtype of release_date from object into datetime\n",
    "4. Handling of Nulls for each specific column\n",
    "5. Additional / final short look at the statistics for additional outlier or not usefull values etc.\n",
    "6. Rename and add additional column(s)\n",
    "7. Change the numbers of columns budget, revenue, winnings into millions\n",
    "8. Reorder all columns"
   ]
  },
  {
   "cell_type": "code",
   "execution_count": 8,
   "metadata": {},
   "outputs": [],
   "source": [
    "# 1. Delete all unrelevant columns:\n",
    "not_relevant = ['imdb_id', 'popularity', 'homepage', 'tagline', 'overview', 'revenue_adj', 'budget_adj']\n",
    "df.drop(not_relevant, axis = 1, inplace = True)"
   ]
  },
  {
   "cell_type": "code",
   "execution_count": 9,
   "metadata": {},
   "outputs": [
    {
     "data": {
      "text/html": [
       "<div>\n",
       "<style scoped>\n",
       "    .dataframe tbody tr th:only-of-type {\n",
       "        vertical-align: middle;\n",
       "    }\n",
       "\n",
       "    .dataframe tbody tr th {\n",
       "        vertical-align: top;\n",
       "    }\n",
       "\n",
       "    .dataframe thead th {\n",
       "        text-align: right;\n",
       "    }\n",
       "</style>\n",
       "<table border=\"1\" class=\"dataframe\">\n",
       "  <thead>\n",
       "    <tr style=\"text-align: right;\">\n",
       "      <th></th>\n",
       "      <th>id</th>\n",
       "      <th>budget</th>\n",
       "      <th>revenue</th>\n",
       "      <th>original_title</th>\n",
       "      <th>cast</th>\n",
       "      <th>director</th>\n",
       "      <th>keywords</th>\n",
       "      <th>runtime</th>\n",
       "      <th>genres</th>\n",
       "      <th>production_companies</th>\n",
       "      <th>release_date</th>\n",
       "      <th>vote_count</th>\n",
       "      <th>vote_average</th>\n",
       "      <th>release_year</th>\n",
       "    </tr>\n",
       "  </thead>\n",
       "  <tbody>\n",
       "    <tr>\n",
       "      <th>0</th>\n",
       "      <td>135397</td>\n",
       "      <td>150000000</td>\n",
       "      <td>1513528810</td>\n",
       "      <td>Jurassic World</td>\n",
       "      <td>Chris Pratt|Bryce Dallas Howard|Irrfan Khan|Vi...</td>\n",
       "      <td>Colin Trevorrow</td>\n",
       "      <td>monster|dna|tyrannosaurus rex|velociraptor|island</td>\n",
       "      <td>124</td>\n",
       "      <td>Action|Adventure|Science Fiction|Thriller</td>\n",
       "      <td>Universal Studios|Amblin Entertainment|Legenda...</td>\n",
       "      <td>6/9/15</td>\n",
       "      <td>5562</td>\n",
       "      <td>6.5</td>\n",
       "      <td>2015</td>\n",
       "    </tr>\n",
       "    <tr>\n",
       "      <th>1</th>\n",
       "      <td>76341</td>\n",
       "      <td>150000000</td>\n",
       "      <td>378436354</td>\n",
       "      <td>Mad Max: Fury Road</td>\n",
       "      <td>Tom Hardy|Charlize Theron|Hugh Keays-Byrne|Nic...</td>\n",
       "      <td>George Miller</td>\n",
       "      <td>future|chase|post-apocalyptic|dystopia|australia</td>\n",
       "      <td>120</td>\n",
       "      <td>Action|Adventure|Science Fiction|Thriller</td>\n",
       "      <td>Village Roadshow Pictures|Kennedy Miller Produ...</td>\n",
       "      <td>5/13/15</td>\n",
       "      <td>6185</td>\n",
       "      <td>7.1</td>\n",
       "      <td>2015</td>\n",
       "    </tr>\n",
       "    <tr>\n",
       "      <th>2</th>\n",
       "      <td>262500</td>\n",
       "      <td>110000000</td>\n",
       "      <td>295238201</td>\n",
       "      <td>Insurgent</td>\n",
       "      <td>Shailene Woodley|Theo James|Kate Winslet|Ansel...</td>\n",
       "      <td>Robert Schwentke</td>\n",
       "      <td>based on novel|revolution|dystopia|sequel|dyst...</td>\n",
       "      <td>119</td>\n",
       "      <td>Adventure|Science Fiction|Thriller</td>\n",
       "      <td>Summit Entertainment|Mandeville Films|Red Wago...</td>\n",
       "      <td>3/18/15</td>\n",
       "      <td>2480</td>\n",
       "      <td>6.3</td>\n",
       "      <td>2015</td>\n",
       "    </tr>\n",
       "    <tr>\n",
       "      <th>3</th>\n",
       "      <td>140607</td>\n",
       "      <td>200000000</td>\n",
       "      <td>2068178225</td>\n",
       "      <td>Star Wars: The Force Awakens</td>\n",
       "      <td>Harrison Ford|Mark Hamill|Carrie Fisher|Adam D...</td>\n",
       "      <td>J.J. Abrams</td>\n",
       "      <td>android|spaceship|jedi|space opera|3d</td>\n",
       "      <td>136</td>\n",
       "      <td>Action|Adventure|Science Fiction|Fantasy</td>\n",
       "      <td>Lucasfilm|Truenorth Productions|Bad Robot</td>\n",
       "      <td>12/15/15</td>\n",
       "      <td>5292</td>\n",
       "      <td>7.5</td>\n",
       "      <td>2015</td>\n",
       "    </tr>\n",
       "    <tr>\n",
       "      <th>4</th>\n",
       "      <td>168259</td>\n",
       "      <td>190000000</td>\n",
       "      <td>1506249360</td>\n",
       "      <td>Furious 7</td>\n",
       "      <td>Vin Diesel|Paul Walker|Jason Statham|Michelle ...</td>\n",
       "      <td>James Wan</td>\n",
       "      <td>car race|speed|revenge|suspense|car</td>\n",
       "      <td>137</td>\n",
       "      <td>Action|Crime|Thriller</td>\n",
       "      <td>Universal Pictures|Original Film|Media Rights ...</td>\n",
       "      <td>4/1/15</td>\n",
       "      <td>2947</td>\n",
       "      <td>7.3</td>\n",
       "      <td>2015</td>\n",
       "    </tr>\n",
       "  </tbody>\n",
       "</table>\n",
       "</div>"
      ],
      "text/plain": [
       "       id     budget     revenue                original_title  \\\n",
       "0  135397  150000000  1513528810                Jurassic World   \n",
       "1   76341  150000000   378436354            Mad Max: Fury Road   \n",
       "2  262500  110000000   295238201                     Insurgent   \n",
       "3  140607  200000000  2068178225  Star Wars: The Force Awakens   \n",
       "4  168259  190000000  1506249360                     Furious 7   \n",
       "\n",
       "                                                cast          director  \\\n",
       "0  Chris Pratt|Bryce Dallas Howard|Irrfan Khan|Vi...   Colin Trevorrow   \n",
       "1  Tom Hardy|Charlize Theron|Hugh Keays-Byrne|Nic...     George Miller   \n",
       "2  Shailene Woodley|Theo James|Kate Winslet|Ansel...  Robert Schwentke   \n",
       "3  Harrison Ford|Mark Hamill|Carrie Fisher|Adam D...       J.J. Abrams   \n",
       "4  Vin Diesel|Paul Walker|Jason Statham|Michelle ...         James Wan   \n",
       "\n",
       "                                            keywords  runtime  \\\n",
       "0  monster|dna|tyrannosaurus rex|velociraptor|island      124   \n",
       "1   future|chase|post-apocalyptic|dystopia|australia      120   \n",
       "2  based on novel|revolution|dystopia|sequel|dyst...      119   \n",
       "3              android|spaceship|jedi|space opera|3d      136   \n",
       "4                car race|speed|revenge|suspense|car      137   \n",
       "\n",
       "                                      genres  \\\n",
       "0  Action|Adventure|Science Fiction|Thriller   \n",
       "1  Action|Adventure|Science Fiction|Thriller   \n",
       "2         Adventure|Science Fiction|Thriller   \n",
       "3   Action|Adventure|Science Fiction|Fantasy   \n",
       "4                      Action|Crime|Thriller   \n",
       "\n",
       "                                production_companies release_date  vote_count  \\\n",
       "0  Universal Studios|Amblin Entertainment|Legenda...       6/9/15        5562   \n",
       "1  Village Roadshow Pictures|Kennedy Miller Produ...      5/13/15        6185   \n",
       "2  Summit Entertainment|Mandeville Films|Red Wago...      3/18/15        2480   \n",
       "3          Lucasfilm|Truenorth Productions|Bad Robot     12/15/15        5292   \n",
       "4  Universal Pictures|Original Film|Media Rights ...       4/1/15        2947   \n",
       "\n",
       "   vote_average  release_year  \n",
       "0           6.5          2015  \n",
       "1           7.1          2015  \n",
       "2           6.3          2015  \n",
       "3           7.5          2015  \n",
       "4           7.3          2015  "
      ]
     },
     "execution_count": 9,
     "metadata": {},
     "output_type": "execute_result"
    }
   ],
   "source": [
    "df.head()"
   ]
  },
  {
   "cell_type": "markdown",
   "metadata": {},
   "source": [
    "All unrelevant columns are gone now for our analysis."
   ]
  },
  {
   "cell_type": "code",
   "execution_count": 10,
   "metadata": {},
   "outputs": [],
   "source": [
    "# 2. Remove the cuplicated row which belongs to id 42194:\n",
    "df.drop_duplicates(inplace = True)"
   ]
  },
  {
   "cell_type": "code",
   "execution_count": 11,
   "metadata": {},
   "outputs": [
    {
     "data": {
      "text/html": [
       "<div>\n",
       "<style scoped>\n",
       "    .dataframe tbody tr th:only-of-type {\n",
       "        vertical-align: middle;\n",
       "    }\n",
       "\n",
       "    .dataframe tbody tr th {\n",
       "        vertical-align: top;\n",
       "    }\n",
       "\n",
       "    .dataframe thead th {\n",
       "        text-align: right;\n",
       "    }\n",
       "</style>\n",
       "<table border=\"1\" class=\"dataframe\">\n",
       "  <thead>\n",
       "    <tr style=\"text-align: right;\">\n",
       "      <th></th>\n",
       "      <th>id</th>\n",
       "      <th>budget</th>\n",
       "      <th>revenue</th>\n",
       "      <th>original_title</th>\n",
       "      <th>cast</th>\n",
       "      <th>director</th>\n",
       "      <th>keywords</th>\n",
       "      <th>runtime</th>\n",
       "      <th>genres</th>\n",
       "      <th>production_companies</th>\n",
       "      <th>release_date</th>\n",
       "      <th>vote_count</th>\n",
       "      <th>vote_average</th>\n",
       "      <th>release_year</th>\n",
       "    </tr>\n",
       "  </thead>\n",
       "  <tbody>\n",
       "  </tbody>\n",
       "</table>\n",
       "</div>"
      ],
      "text/plain": [
       "Empty DataFrame\n",
       "Columns: [id, budget, revenue, original_title, cast, director, keywords, runtime, genres, production_companies, release_date, vote_count, vote_average, release_year]\n",
       "Index: []"
      ]
     },
     "execution_count": 11,
     "metadata": {},
     "output_type": "execute_result"
    }
   ],
   "source": [
    "df[df.duplicated()]"
   ]
  },
  {
   "cell_type": "markdown",
   "metadata": {},
   "source": [
    "Removing of duplicated rows is finished."
   ]
  },
  {
   "cell_type": "code",
   "execution_count": 12,
   "metadata": {},
   "outputs": [],
   "source": [
    "# 3. cast column release_date from obj into datetime:\n",
    "df['release_date'] = pd.to_datetime(df['release_date'])"
   ]
  },
  {
   "cell_type": "code",
   "execution_count": 13,
   "metadata": {},
   "outputs": [
    {
     "name": "stdout",
     "output_type": "stream",
     "text": [
      "<class 'pandas.core.frame.DataFrame'>\n",
      "Int64Index: 10865 entries, 0 to 10865\n",
      "Data columns (total 14 columns):\n",
      " #   Column                Non-Null Count  Dtype         \n",
      "---  ------                --------------  -----         \n",
      " 0   id                    10865 non-null  int64         \n",
      " 1   budget                10865 non-null  int64         \n",
      " 2   revenue               10865 non-null  int64         \n",
      " 3   original_title        10865 non-null  object        \n",
      " 4   cast                  10789 non-null  object        \n",
      " 5   director              10821 non-null  object        \n",
      " 6   keywords              9372 non-null   object        \n",
      " 7   runtime               10865 non-null  int64         \n",
      " 8   genres                10842 non-null  object        \n",
      " 9   production_companies  9835 non-null   object        \n",
      " 10  release_date          10865 non-null  datetime64[ns]\n",
      " 11  vote_count            10865 non-null  int64         \n",
      " 12  vote_average          10865 non-null  float64       \n",
      " 13  release_year          10865 non-null  int64         \n",
      "dtypes: datetime64[ns](1), float64(1), int64(6), object(6)\n",
      "memory usage: 1.2+ MB\n"
     ]
    }
   ],
   "source": [
    "df.info()"
   ]
  },
  {
   "cell_type": "markdown",
   "metadata": {},
   "source": [
    "It changed the dtype of column relase_date from object into datetime64"
   ]
  },
  {
   "cell_type": "code",
   "execution_count": 14,
   "metadata": {},
   "outputs": [
    {
     "data": {
      "text/plain": [
       "id                         0\n",
       "budget                     0\n",
       "revenue                    0\n",
       "original_title             0\n",
       "cast                      76\n",
       "director                  44\n",
       "keywords                1493\n",
       "runtime                    0\n",
       "genres                    23\n",
       "production_companies    1030\n",
       "release_date               0\n",
       "vote_count                 0\n",
       "vote_average               0\n",
       "release_year               0\n",
       "dtype: int64"
      ]
     },
     "execution_count": 14,
     "metadata": {},
     "output_type": "execute_result"
    }
   ],
   "source": [
    "# 4. Handling of Nulls for each specific column:\n",
    "df.isnull().sum()"
   ]
  },
  {
   "cell_type": "markdown",
   "metadata": {},
   "source": [
    "Ok there are some Nulls here. Let's have a short look insight of one column as an example"
   ]
  },
  {
   "cell_type": "code",
   "execution_count": 15,
   "metadata": {},
   "outputs": [
    {
     "data": {
      "text/html": [
       "<div>\n",
       "<style scoped>\n",
       "    .dataframe tbody tr th:only-of-type {\n",
       "        vertical-align: middle;\n",
       "    }\n",
       "\n",
       "    .dataframe tbody tr th {\n",
       "        vertical-align: top;\n",
       "    }\n",
       "\n",
       "    .dataframe thead th {\n",
       "        text-align: right;\n",
       "    }\n",
       "</style>\n",
       "<table border=\"1\" class=\"dataframe\">\n",
       "  <thead>\n",
       "    <tr style=\"text-align: right;\">\n",
       "      <th></th>\n",
       "      <th>id</th>\n",
       "      <th>budget</th>\n",
       "      <th>revenue</th>\n",
       "      <th>original_title</th>\n",
       "      <th>cast</th>\n",
       "      <th>director</th>\n",
       "      <th>keywords</th>\n",
       "      <th>runtime</th>\n",
       "      <th>genres</th>\n",
       "      <th>production_companies</th>\n",
       "      <th>release_date</th>\n",
       "      <th>vote_count</th>\n",
       "      <th>vote_average</th>\n",
       "      <th>release_year</th>\n",
       "    </tr>\n",
       "  </thead>\n",
       "  <tbody>\n",
       "    <tr>\n",
       "      <th>130</th>\n",
       "      <td>245706</td>\n",
       "      <td>0</td>\n",
       "      <td>4719695</td>\n",
       "      <td>True Story</td>\n",
       "      <td>Jonah Hill|James Franco|Felicity Jones|Maria D...</td>\n",
       "      <td>Rupert Goold</td>\n",
       "      <td>NaN</td>\n",
       "      <td>100</td>\n",
       "      <td>Crime|Drama|Mystery</td>\n",
       "      <td>Plan B Entertainment|Regency Enterprises|New R...</td>\n",
       "      <td>2015-04-17</td>\n",
       "      <td>354</td>\n",
       "      <td>6.0</td>\n",
       "      <td>2015</td>\n",
       "    </tr>\n",
       "    <tr>\n",
       "      <th>149</th>\n",
       "      <td>346808</td>\n",
       "      <td>20000000</td>\n",
       "      <td>0</td>\n",
       "      <td>Momentum</td>\n",
       "      <td>Olga Kurylenko|Morgan Freeman|James Purefoy|Je...</td>\n",
       "      <td>Stephen S. Campanelli</td>\n",
       "      <td>NaN</td>\n",
       "      <td>96</td>\n",
       "      <td>Thriller|Action</td>\n",
       "      <td>Thaba Media|Azari Media</td>\n",
       "      <td>2015-08-01</td>\n",
       "      <td>100</td>\n",
       "      <td>5.8</td>\n",
       "      <td>2015</td>\n",
       "    </tr>\n",
       "    <tr>\n",
       "      <th>154</th>\n",
       "      <td>314405</td>\n",
       "      <td>12000000</td>\n",
       "      <td>0</td>\n",
       "      <td>Il racconto dei racconti</td>\n",
       "      <td>Salma Hayek|Vincent Cassel|John C. Reilly|Toby...</td>\n",
       "      <td>Matteo Garrone</td>\n",
       "      <td>NaN</td>\n",
       "      <td>125</td>\n",
       "      <td>Romance|Fantasy|Horror</td>\n",
       "      <td>HanWay Films|Rai Cinema|Le Pacte|Fonds Eurimag...</td>\n",
       "      <td>2015-05-14</td>\n",
       "      <td>211</td>\n",
       "      <td>5.7</td>\n",
       "      <td>2015</td>\n",
       "    </tr>\n",
       "    <tr>\n",
       "      <th>155</th>\n",
       "      <td>282984</td>\n",
       "      <td>11000000</td>\n",
       "      <td>27391084</td>\n",
       "      <td>Irrational Man</td>\n",
       "      <td>Emma Stone|Joaquin Phoenix|Jamie Blackley|Park...</td>\n",
       "      <td>Woody Allen</td>\n",
       "      <td>NaN</td>\n",
       "      <td>95</td>\n",
       "      <td>Mystery|Drama</td>\n",
       "      <td>Sony Pictures|Gravier Productions</td>\n",
       "      <td>2015-07-17</td>\n",
       "      <td>319</td>\n",
       "      <td>6.1</td>\n",
       "      <td>2015</td>\n",
       "    </tr>\n",
       "    <tr>\n",
       "      <th>160</th>\n",
       "      <td>304372</td>\n",
       "      <td>12000000</td>\n",
       "      <td>60273173</td>\n",
       "      <td>The Perfect Guy</td>\n",
       "      <td>Michael Ealy|Sanaa Lathan|Morris Chestnut|Kath...</td>\n",
       "      <td>David M. Rosenthal</td>\n",
       "      <td>NaN</td>\n",
       "      <td>100</td>\n",
       "      <td>Drama|Thriller</td>\n",
       "      <td>Screen Gems</td>\n",
       "      <td>2015-09-11</td>\n",
       "      <td>122</td>\n",
       "      <td>5.6</td>\n",
       "      <td>2015</td>\n",
       "    </tr>\n",
       "    <tr>\n",
       "      <th>...</th>\n",
       "      <td>...</td>\n",
       "      <td>...</td>\n",
       "      <td>...</td>\n",
       "      <td>...</td>\n",
       "      <td>...</td>\n",
       "      <td>...</td>\n",
       "      <td>...</td>\n",
       "      <td>...</td>\n",
       "      <td>...</td>\n",
       "      <td>...</td>\n",
       "      <td>...</td>\n",
       "      <td>...</td>\n",
       "      <td>...</td>\n",
       "      <td>...</td>\n",
       "    </tr>\n",
       "    <tr>\n",
       "      <th>10753</th>\n",
       "      <td>19307</td>\n",
       "      <td>0</td>\n",
       "      <td>0</td>\n",
       "      <td>Carry On Camping</td>\n",
       "      <td>Sid James|Charles Hawtrey|Joan Sims|Kenneth Wi...</td>\n",
       "      <td>Gerald Thomas</td>\n",
       "      <td>NaN</td>\n",
       "      <td>88</td>\n",
       "      <td>Comedy</td>\n",
       "      <td>The Rank Organisation</td>\n",
       "      <td>2069-05-29</td>\n",
       "      <td>11</td>\n",
       "      <td>6.4</td>\n",
       "      <td>1969</td>\n",
       "    </tr>\n",
       "    <tr>\n",
       "      <th>10777</th>\n",
       "      <td>28932</td>\n",
       "      <td>11</td>\n",
       "      <td>11</td>\n",
       "      <td>F.I.S.T.</td>\n",
       "      <td>Sylvester Stallone|Rod Steiger|Peter Boyle|Mel...</td>\n",
       "      <td>Norman Jewison</td>\n",
       "      <td>NaN</td>\n",
       "      <td>145</td>\n",
       "      <td>Drama|Action</td>\n",
       "      <td>chateau productions</td>\n",
       "      <td>1978-04-26</td>\n",
       "      <td>13</td>\n",
       "      <td>6.7</td>\n",
       "      <td>1978</td>\n",
       "    </tr>\n",
       "    <tr>\n",
       "      <th>10787</th>\n",
       "      <td>14822</td>\n",
       "      <td>0</td>\n",
       "      <td>16393000</td>\n",
       "      <td>Return From Witch Mountain</td>\n",
       "      <td>Bette Davis|Christopher Lee|Kim Richards|Ike E...</td>\n",
       "      <td>John Hough</td>\n",
       "      <td>NaN</td>\n",
       "      <td>95</td>\n",
       "      <td>Adventure|Fantasy|Science Fiction|Family</td>\n",
       "      <td>NaN</td>\n",
       "      <td>1978-03-10</td>\n",
       "      <td>22</td>\n",
       "      <td>5.8</td>\n",
       "      <td>1978</td>\n",
       "    </tr>\n",
       "    <tr>\n",
       "      <th>10811</th>\n",
       "      <td>40081</td>\n",
       "      <td>0</td>\n",
       "      <td>0</td>\n",
       "      <td>Can que</td>\n",
       "      <td>Chen Kuan-Tai|Philip Kwok Chun-Fung|Lo Meng|Su...</td>\n",
       "      <td>Chang Cheh</td>\n",
       "      <td>NaN</td>\n",
       "      <td>100</td>\n",
       "      <td>Action|Drama|Foreign</td>\n",
       "      <td>Shaw Brothers</td>\n",
       "      <td>1978-12-20</td>\n",
       "      <td>11</td>\n",
       "      <td>7.5</td>\n",
       "      <td>1978</td>\n",
       "    </tr>\n",
       "    <tr>\n",
       "      <th>10842</th>\n",
       "      <td>36540</td>\n",
       "      <td>0</td>\n",
       "      <td>0</td>\n",
       "      <td>Winnie the Pooh and the Honey Tree</td>\n",
       "      <td>Sterling Holloway|Junius Matthews|Sebastian Ca...</td>\n",
       "      <td>Wolfgang Reitherman</td>\n",
       "      <td>NaN</td>\n",
       "      <td>25</td>\n",
       "      <td>Animation|Family</td>\n",
       "      <td>NaN</td>\n",
       "      <td>2066-01-01</td>\n",
       "      <td>12</td>\n",
       "      <td>7.9</td>\n",
       "      <td>1966</td>\n",
       "    </tr>\n",
       "  </tbody>\n",
       "</table>\n",
       "<p>1493 rows × 14 columns</p>\n",
       "</div>"
      ],
      "text/plain": [
       "           id    budget   revenue                      original_title  \\\n",
       "130    245706         0   4719695                          True Story   \n",
       "149    346808  20000000         0                            Momentum   \n",
       "154    314405  12000000         0            Il racconto dei racconti   \n",
       "155    282984  11000000  27391084                      Irrational Man   \n",
       "160    304372  12000000  60273173                     The Perfect Guy   \n",
       "...       ...       ...       ...                                 ...   \n",
       "10753   19307         0         0                    Carry On Camping   \n",
       "10777   28932        11        11                            F.I.S.T.   \n",
       "10787   14822         0  16393000          Return From Witch Mountain   \n",
       "10811   40081         0         0                             Can que   \n",
       "10842   36540         0         0  Winnie the Pooh and the Honey Tree   \n",
       "\n",
       "                                                    cast  \\\n",
       "130    Jonah Hill|James Franco|Felicity Jones|Maria D...   \n",
       "149    Olga Kurylenko|Morgan Freeman|James Purefoy|Je...   \n",
       "154    Salma Hayek|Vincent Cassel|John C. Reilly|Toby...   \n",
       "155    Emma Stone|Joaquin Phoenix|Jamie Blackley|Park...   \n",
       "160    Michael Ealy|Sanaa Lathan|Morris Chestnut|Kath...   \n",
       "...                                                  ...   \n",
       "10753  Sid James|Charles Hawtrey|Joan Sims|Kenneth Wi...   \n",
       "10777  Sylvester Stallone|Rod Steiger|Peter Boyle|Mel...   \n",
       "10787  Bette Davis|Christopher Lee|Kim Richards|Ike E...   \n",
       "10811  Chen Kuan-Tai|Philip Kwok Chun-Fung|Lo Meng|Su...   \n",
       "10842  Sterling Holloway|Junius Matthews|Sebastian Ca...   \n",
       "\n",
       "                    director keywords  runtime  \\\n",
       "130             Rupert Goold      NaN      100   \n",
       "149    Stephen S. Campanelli      NaN       96   \n",
       "154           Matteo Garrone      NaN      125   \n",
       "155              Woody Allen      NaN       95   \n",
       "160       David M. Rosenthal      NaN      100   \n",
       "...                      ...      ...      ...   \n",
       "10753          Gerald Thomas      NaN       88   \n",
       "10777         Norman Jewison      NaN      145   \n",
       "10787             John Hough      NaN       95   \n",
       "10811             Chang Cheh      NaN      100   \n",
       "10842    Wolfgang Reitherman      NaN       25   \n",
       "\n",
       "                                         genres  \\\n",
       "130                         Crime|Drama|Mystery   \n",
       "149                             Thriller|Action   \n",
       "154                      Romance|Fantasy|Horror   \n",
       "155                               Mystery|Drama   \n",
       "160                              Drama|Thriller   \n",
       "...                                         ...   \n",
       "10753                                    Comedy   \n",
       "10777                              Drama|Action   \n",
       "10787  Adventure|Fantasy|Science Fiction|Family   \n",
       "10811                      Action|Drama|Foreign   \n",
       "10842                          Animation|Family   \n",
       "\n",
       "                                    production_companies release_date  \\\n",
       "130    Plan B Entertainment|Regency Enterprises|New R...   2015-04-17   \n",
       "149                              Thaba Media|Azari Media   2015-08-01   \n",
       "154    HanWay Films|Rai Cinema|Le Pacte|Fonds Eurimag...   2015-05-14   \n",
       "155                    Sony Pictures|Gravier Productions   2015-07-17   \n",
       "160                                          Screen Gems   2015-09-11   \n",
       "...                                                  ...          ...   \n",
       "10753                              The Rank Organisation   2069-05-29   \n",
       "10777                                chateau productions   1978-04-26   \n",
       "10787                                                NaN   1978-03-10   \n",
       "10811                                      Shaw Brothers   1978-12-20   \n",
       "10842                                                NaN   2066-01-01   \n",
       "\n",
       "       vote_count  vote_average  release_year  \n",
       "130           354           6.0          2015  \n",
       "149           100           5.8          2015  \n",
       "154           211           5.7          2015  \n",
       "155           319           6.1          2015  \n",
       "160           122           5.6          2015  \n",
       "...           ...           ...           ...  \n",
       "10753          11           6.4          1969  \n",
       "10777          13           6.7          1978  \n",
       "10787          22           5.8          1978  \n",
       "10811          11           7.5          1978  \n",
       "10842          12           7.9          1966  \n",
       "\n",
       "[1493 rows x 14 columns]"
      ]
     },
     "execution_count": 15,
     "metadata": {},
     "output_type": "execute_result"
    }
   ],
   "source": [
    "## getting a short insight in the column with the most NaN:\n",
    "df[df['keywords'].isnull()]"
   ]
  },
  {
   "cell_type": "markdown",
   "metadata": {},
   "source": [
    "After a little insight of NaN data for each column (column 'keywords' above is still left as an review example), it's getting clear, that only columns with dtype as an object need to be deleted or replaced.   \n",
    "  I chose to replace it with the word 'Unknown' to keep the high amount of the data basic and filter it out when it's might getting necessary in some cases later.   \n",
    "  Note: Under real condition in my work, I would like to search for another Dataset with the missing values and join them."
   ]
  },
  {
   "cell_type": "code",
   "execution_count": 16,
   "metadata": {},
   "outputs": [
    {
     "data": {
      "text/plain": [
       "id                      0\n",
       "budget                  0\n",
       "revenue                 0\n",
       "original_title          0\n",
       "cast                    0\n",
       "director                0\n",
       "keywords                0\n",
       "runtime                 0\n",
       "genres                  0\n",
       "production_companies    0\n",
       "release_date            0\n",
       "vote_count              0\n",
       "vote_average            0\n",
       "release_year            0\n",
       "dtype: int64"
      ]
     },
     "execution_count": 16,
     "metadata": {},
     "output_type": "execute_result"
    }
   ],
   "source": [
    "## Changing NaN into 'Unknown':\n",
    "df.fillna('Unknown', inplace = True)\n",
    "df.isnull().sum()"
   ]
  },
  {
   "cell_type": "markdown",
   "metadata": {},
   "source": [
    "Now it looks better with the Nulls."
   ]
  },
  {
   "cell_type": "code",
   "execution_count": 17,
   "metadata": {
    "scrolled": false
   },
   "outputs": [
    {
     "data": {
      "text/html": [
       "<div>\n",
       "<style scoped>\n",
       "    .dataframe tbody tr th:only-of-type {\n",
       "        vertical-align: middle;\n",
       "    }\n",
       "\n",
       "    .dataframe tbody tr th {\n",
       "        vertical-align: top;\n",
       "    }\n",
       "\n",
       "    .dataframe thead th {\n",
       "        text-align: right;\n",
       "    }\n",
       "</style>\n",
       "<table border=\"1\" class=\"dataframe\">\n",
       "  <thead>\n",
       "    <tr style=\"text-align: right;\">\n",
       "      <th></th>\n",
       "      <th>id</th>\n",
       "      <th>budget</th>\n",
       "      <th>revenue</th>\n",
       "      <th>runtime</th>\n",
       "      <th>vote_count</th>\n",
       "      <th>vote_average</th>\n",
       "      <th>release_year</th>\n",
       "    </tr>\n",
       "  </thead>\n",
       "  <tbody>\n",
       "    <tr>\n",
       "      <th>count</th>\n",
       "      <td>10865.000000</td>\n",
       "      <td>1.086500e+04</td>\n",
       "      <td>1.086500e+04</td>\n",
       "      <td>10865.000000</td>\n",
       "      <td>10865.000000</td>\n",
       "      <td>10865.000000</td>\n",
       "      <td>10865.000000</td>\n",
       "    </tr>\n",
       "    <tr>\n",
       "      <th>mean</th>\n",
       "      <td>66066.374413</td>\n",
       "      <td>1.462429e+07</td>\n",
       "      <td>3.982690e+07</td>\n",
       "      <td>102.071790</td>\n",
       "      <td>217.399632</td>\n",
       "      <td>5.975012</td>\n",
       "      <td>2001.321859</td>\n",
       "    </tr>\n",
       "    <tr>\n",
       "      <th>std</th>\n",
       "      <td>92134.091971</td>\n",
       "      <td>3.091428e+07</td>\n",
       "      <td>1.170083e+08</td>\n",
       "      <td>31.382701</td>\n",
       "      <td>575.644627</td>\n",
       "      <td>0.935138</td>\n",
       "      <td>12.813260</td>\n",
       "    </tr>\n",
       "    <tr>\n",
       "      <th>min</th>\n",
       "      <td>5.000000</td>\n",
       "      <td>0.000000e+00</td>\n",
       "      <td>0.000000e+00</td>\n",
       "      <td>0.000000</td>\n",
       "      <td>10.000000</td>\n",
       "      <td>1.500000</td>\n",
       "      <td>1960.000000</td>\n",
       "    </tr>\n",
       "    <tr>\n",
       "      <th>25%</th>\n",
       "      <td>10596.000000</td>\n",
       "      <td>0.000000e+00</td>\n",
       "      <td>0.000000e+00</td>\n",
       "      <td>90.000000</td>\n",
       "      <td>17.000000</td>\n",
       "      <td>5.400000</td>\n",
       "      <td>1995.000000</td>\n",
       "    </tr>\n",
       "    <tr>\n",
       "      <th>50%</th>\n",
       "      <td>20662.000000</td>\n",
       "      <td>0.000000e+00</td>\n",
       "      <td>0.000000e+00</td>\n",
       "      <td>99.000000</td>\n",
       "      <td>38.000000</td>\n",
       "      <td>6.000000</td>\n",
       "      <td>2006.000000</td>\n",
       "    </tr>\n",
       "    <tr>\n",
       "      <th>75%</th>\n",
       "      <td>75612.000000</td>\n",
       "      <td>1.500000e+07</td>\n",
       "      <td>2.400000e+07</td>\n",
       "      <td>111.000000</td>\n",
       "      <td>146.000000</td>\n",
       "      <td>6.600000</td>\n",
       "      <td>2011.000000</td>\n",
       "    </tr>\n",
       "    <tr>\n",
       "      <th>max</th>\n",
       "      <td>417859.000000</td>\n",
       "      <td>4.250000e+08</td>\n",
       "      <td>2.781506e+09</td>\n",
       "      <td>900.000000</td>\n",
       "      <td>9767.000000</td>\n",
       "      <td>9.200000</td>\n",
       "      <td>2015.000000</td>\n",
       "    </tr>\n",
       "  </tbody>\n",
       "</table>\n",
       "</div>"
      ],
      "text/plain": [
       "                  id        budget       revenue       runtime    vote_count  \\\n",
       "count   10865.000000  1.086500e+04  1.086500e+04  10865.000000  10865.000000   \n",
       "mean    66066.374413  1.462429e+07  3.982690e+07    102.071790    217.399632   \n",
       "std     92134.091971  3.091428e+07  1.170083e+08     31.382701    575.644627   \n",
       "min         5.000000  0.000000e+00  0.000000e+00      0.000000     10.000000   \n",
       "25%     10596.000000  0.000000e+00  0.000000e+00     90.000000     17.000000   \n",
       "50%     20662.000000  0.000000e+00  0.000000e+00     99.000000     38.000000   \n",
       "75%     75612.000000  1.500000e+07  2.400000e+07    111.000000    146.000000   \n",
       "max    417859.000000  4.250000e+08  2.781506e+09    900.000000   9767.000000   \n",
       "\n",
       "       vote_average  release_year  \n",
       "count  10865.000000  10865.000000  \n",
       "mean       5.975012   2001.321859  \n",
       "std        0.935138     12.813260  \n",
       "min        1.500000   1960.000000  \n",
       "25%        5.400000   1995.000000  \n",
       "50%        6.000000   2006.000000  \n",
       "75%        6.600000   2011.000000  \n",
       "max        9.200000   2015.000000  "
      ]
     },
     "execution_count": 17,
     "metadata": {},
     "output_type": "execute_result"
    }
   ],
   "source": [
    "# 5. Additional short look at the statistics of each column:\n",
    "df.describe()"
   ]
  },
  {
   "cell_type": "markdown",
   "metadata": {},
   "source": [
    "Noticeable are here the columns budget, revenue and runtime. All three of them still got minimum amounts of 0.   \n",
    "  That is one topic we should analyse in a more detailed way.\n",
    "\n",
    "Another point is, that there is a maximum runtime value of 900 minutes. \n",
    "And that's not usual at all for a movie.\n",
    "So lets also have a look at this one.\n"
   ]
  },
  {
   "cell_type": "code",
   "execution_count": 18,
   "metadata": {},
   "outputs": [
    {
     "name": "stdout",
     "output_type": "stream",
     "text": [
      "The amount of rows with 0 budget in this dataset:  5696\n",
      "Percentage of movies with 0 budget in this dataset: 52.43%\n"
     ]
    }
   ],
   "source": [
    "## short insight of the column budget with the value of 0:\n",
    "### amount of rows:\n",
    "print('The amount of rows with 0 budget in this dataset: ', len(df[df['budget'] == 0].index))\n",
    "\n",
    "### percentage calculation:\n",
    "df_0_budget = df.query('budget == 0')\n",
    "percent_0_budget= (len(df_0_budget.index))*100/(len(df.index))\n",
    "\n",
    "print('Percentage of movies with 0 budget in this dataset: {:.2f}%'.format(percent_0_budget))"
   ]
  },
  {
   "cell_type": "code",
   "execution_count": 19,
   "metadata": {},
   "outputs": [
    {
     "name": "stdout",
     "output_type": "stream",
     "text": [
      "The amount of rows with 0 revenue in this dataset:  6016\n",
      "Percentage of movies with 0 revenue in this dataset: 55.37%\n"
     ]
    }
   ],
   "source": [
    "## short insight of the column revenue with the value of 0:\n",
    "### amount of rows:\n",
    "print('The amount of rows with 0 revenue in this dataset: ', len(df[df['revenue'] == 0].index))\n",
    "\n",
    "### percentage calculation:\n",
    "df_0_revenue = df.query('revenue == 0')\n",
    "percent_0_revenue= (len(df_0_revenue.index))*100/(len(df.index))\n",
    "\n",
    "print('Percentage of movies with 0 revenue in this dataset: {:.2f}%'.format(percent_0_revenue))"
   ]
  },
  {
   "cell_type": "code",
   "execution_count": 20,
   "metadata": {},
   "outputs": [
    {
     "name": "stdout",
     "output_type": "stream",
     "text": [
      "The amount of rows with 0 runtime in this dataset:  31\n",
      "Percentage of movies with 0 runtime in this dataset: 0.29%\n",
      "\n",
      "\n",
      "Amount of movies with 0 runtime and also 0 budget on top:  28\n",
      "Percentage of movies with also 0 budget related to 0 runtime: 90.32%\n"
     ]
    }
   ],
   "source": [
    "## short insight of the column runtime with the value of 0:\n",
    "### amount of rows:\n",
    "print('The amount of rows with 0 runtime in this dataset: ', len(df[df['runtime'] == 0].index))\n",
    "\n",
    "### percentage calculation:\n",
    "df_0_runtime = df.query('runtime == 0')\n",
    "percent_0_runtime= (len(df_0_runtime.index))*100/(len(df.index))\n",
    "\n",
    "print('Percentage of movies with 0 runtime in this dataset: {:.2f}%'.format(percent_0_runtime))\n",
    "print('\\n')\n",
    "\n",
    "\n",
    "### on top movies without runtime and also no budget:\n",
    "print('Amount of movies with 0 runtime and also 0 budget on top: ',len(df_0_runtime[df_0_runtime['budget'] == 0].index))\n",
    "\n",
    "### perentage calculation:\n",
    "df_0_run_bud = df_0_runtime.query('budget == 0')\n",
    "percent_0_run_bud = (len(df_0_run_bud.index))*100/(len(df_0_runtime.index))\n",
    "\n",
    "print('Percentage of movies with also 0 budget related to 0 runtime: {:.2f}%'.format(percent_0_run_bud))"
   ]
  },
  {
   "cell_type": "markdown",
   "metadata": {},
   "source": [
    "#### Conclusion to 0 budget, revenue and runtime: \n",
    "\n",
    "As we can see here is a really high percentage of not usefull data that belongs to budget and revenue. Usually I've got two cases right now:\n",
    "1. case is to calculate the mean value for each column and replace it with them. \n",
    "\n",
    "2. case is to delete the rows. \n",
    "\n",
    "And in this analysis here, I decided to delete this rows, because otherwise I might bring in a different influence on the answers to the questions later and maybe force them to different statements.  \n",
    "\n",
    "On top of that, there are only a few movies without a runtime. But most of them also got no budget either. So that's also the reason for me to delete them."
   ]
  },
  {
   "cell_type": "code",
   "execution_count": 21,
   "metadata": {},
   "outputs": [
    {
     "data": {
      "text/html": [
       "<div>\n",
       "<style scoped>\n",
       "    .dataframe tbody tr th:only-of-type {\n",
       "        vertical-align: middle;\n",
       "    }\n",
       "\n",
       "    .dataframe tbody tr th {\n",
       "        vertical-align: top;\n",
       "    }\n",
       "\n",
       "    .dataframe thead th {\n",
       "        text-align: right;\n",
       "    }\n",
       "</style>\n",
       "<table border=\"1\" class=\"dataframe\">\n",
       "  <thead>\n",
       "    <tr style=\"text-align: right;\">\n",
       "      <th></th>\n",
       "      <th>id</th>\n",
       "      <th>budget</th>\n",
       "      <th>revenue</th>\n",
       "      <th>original_title</th>\n",
       "      <th>cast</th>\n",
       "      <th>director</th>\n",
       "      <th>keywords</th>\n",
       "      <th>runtime</th>\n",
       "      <th>genres</th>\n",
       "      <th>production_companies</th>\n",
       "      <th>release_date</th>\n",
       "      <th>vote_count</th>\n",
       "      <th>vote_average</th>\n",
       "      <th>release_year</th>\n",
       "    </tr>\n",
       "  </thead>\n",
       "  <tbody>\n",
       "    <tr>\n",
       "      <th>3894</th>\n",
       "      <td>125336</td>\n",
       "      <td>0</td>\n",
       "      <td>0</td>\n",
       "      <td>The Story of Film: An Odyssey</td>\n",
       "      <td>Mark Cousins|Jean-Michel Frodon|Cari Beauchamp...</td>\n",
       "      <td>Mark Cousins</td>\n",
       "      <td>cinema|nouvelle vague|hindi cinema|cinema novo...</td>\n",
       "      <td>900</td>\n",
       "      <td>Documentary</td>\n",
       "      <td>Unknown</td>\n",
       "      <td>2011-09-03</td>\n",
       "      <td>14</td>\n",
       "      <td>9.2</td>\n",
       "      <td>2011</td>\n",
       "    </tr>\n",
       "  </tbody>\n",
       "</table>\n",
       "</div>"
      ],
      "text/plain": [
       "          id  budget  revenue                 original_title  \\\n",
       "3894  125336       0        0  The Story of Film: An Odyssey   \n",
       "\n",
       "                                                   cast      director  \\\n",
       "3894  Mark Cousins|Jean-Michel Frodon|Cari Beauchamp...  Mark Cousins   \n",
       "\n",
       "                                               keywords  runtime       genres  \\\n",
       "3894  cinema|nouvelle vague|hindi cinema|cinema novo...      900  Documentary   \n",
       "\n",
       "     production_companies release_date  vote_count  vote_average  release_year  \n",
       "3894              Unknown   2011-09-03          14           9.2          2011  "
      ]
     },
     "execution_count": 21,
     "metadata": {},
     "output_type": "execute_result"
    }
   ],
   "source": [
    "## insight of the one movie with a runtime of 900 minutes:\n",
    "df[df['runtime'] == 900]"
   ]
  },
  {
   "cell_type": "markdown",
   "metadata": {},
   "source": [
    "It seems like the movie with the longest runtime is a documentation about the story of films. The average vote is pretty high with 9.2 here, but only 14 votes were counted for this rating. And as we can see, there are no information about the budget and revenue either."
   ]
  },
  {
   "cell_type": "code",
   "execution_count": 22,
   "metadata": {},
   "outputs": [],
   "source": [
    "## drop all rows with 0 budget, 0 revenue or 0 runtime and reset the index again:\n",
    "df = df.drop(df[(df.budget == 0) | (df.revenue == 0) | (df.runtime == 0)].index)\n",
    "df.reset_index(drop = True, inplace = True)"
   ]
  },
  {
   "cell_type": "code",
   "execution_count": 23,
   "metadata": {
    "scrolled": false
   },
   "outputs": [
    {
     "name": "stdout",
     "output_type": "stream",
     "text": [
      "<class 'pandas.core.frame.DataFrame'>\n",
      "RangeIndex: 3854 entries, 0 to 3853\n",
      "Data columns (total 14 columns):\n",
      " #   Column                Non-Null Count  Dtype         \n",
      "---  ------                --------------  -----         \n",
      " 0   id                    3854 non-null   int64         \n",
      " 1   budget                3854 non-null   int64         \n",
      " 2   revenue               3854 non-null   int64         \n",
      " 3   original_title        3854 non-null   object        \n",
      " 4   cast                  3854 non-null   object        \n",
      " 5   director              3854 non-null   object        \n",
      " 6   keywords              3854 non-null   object        \n",
      " 7   runtime               3854 non-null   int64         \n",
      " 8   genres                3854 non-null   object        \n",
      " 9   production_companies  3854 non-null   object        \n",
      " 10  release_date          3854 non-null   datetime64[ns]\n",
      " 11  vote_count            3854 non-null   int64         \n",
      " 12  vote_average          3854 non-null   float64       \n",
      " 13  release_year          3854 non-null   int64         \n",
      "dtypes: datetime64[ns](1), float64(1), int64(6), object(6)\n",
      "memory usage: 421.7+ KB\n"
     ]
    }
   ],
   "source": [
    "df.info()"
   ]
  },
  {
   "cell_type": "markdown",
   "metadata": {},
   "source": [
    "After dropping all rows with 0 budget, revenue and runtime there are only 3854 rows of data left.   \n",
    "  Note: As I said before, in my work I would like to search for another dataset and join the 0 values to safe as many data rows as possible."
   ]
  },
  {
   "cell_type": "code",
   "execution_count": 24,
   "metadata": {},
   "outputs": [],
   "source": [
    "# Preperation for step 6. \n",
    "## create a function to calculate the different quantiles for a given column name in the next lines:\n",
    "def bin_edges (column_name):\n",
    "    result = []\n",
    "    j = 0.25  \n",
    "    for i in range(5):\n",
    "        result.append((df[column_name]).quantile(j*i))\n",
    "    return result"
   ]
  },
  {
   "cell_type": "markdown",
   "metadata": {},
   "source": [
    "This little function helps us to shorten the repetitive code for classifying the dataset in different groups / labels in the next lines a little bit (and of course for my personal training with my own function)"
   ]
  },
  {
   "cell_type": "code",
   "execution_count": 25,
   "metadata": {},
   "outputs": [
    {
     "name": "stdout",
     "output_type": "stream",
     "text": [
      "Create a new group of labels for user ratings:\n",
      "{'very low': 2.2, 'low': 5.7, 'medium': 6.2, 'high': 6.7} \n",
      "\n",
      "Create a new group of labels for counted votes:\n",
      "{'not relevant': 10.0, 'few': 71.0, 'middle': 204.0, 'many': 580.0} \n",
      "\n",
      "Create a new group of labels for movie runtimes:\n",
      "{'short film': 0, 'medium-length film': 30, 'feature-length film': 60, 'over-length film': 120} \n",
      "\n",
      "Create a new group of labels for budget:\n",
      "{'low': 1.0, 'middle': 10000000.0, 'higher': 24000000.0, 'premium': 50000000.0} \n",
      "\n"
     ]
    }
   ],
   "source": [
    "# 6. Rename and add additional column(s):\n",
    "\n",
    "## shorten column original_title:\n",
    "df.rename(columns = {\"original_title\":\"title\"}, inplace = True)\n",
    "\n",
    "\n",
    "## calculate and add column winnings:\n",
    "df['winnings'] = df['revenue'] - df['budget']\n",
    "\n",
    "\n",
    "## classify the dataset into 4 groups by user ratings:\n",
    "bin_edges_rating = bin_edges('vote_average') # have a look at the new defined function in the last coding cell\n",
    "bin_labels_rating = ['very low', 'low', 'medium', 'high']\n",
    "\n",
    "df['rating_class'] = pd.cut(df['vote_average'], bin_edges_rating, labels = bin_labels_rating, include_lowest = True)\n",
    "print('Create a new group of labels for user ratings:')\n",
    "print(dict(zip(bin_labels_rating, bin_edges_rating)),'\\n')\n",
    "\n",
    "\n",
    "## classify the dataset into 4 groups by counted votes:\n",
    "bin_edges_voting = bin_edges('vote_count')\n",
    "bin_labels_voting = ['not relevant', 'few', 'middle', 'many']\n",
    "\n",
    "df['vote_counts_class'] = pd.cut(df['vote_count'], bin_edges_voting, labels = bin_labels_voting, include_lowest = True)\n",
    "print('Create a new group of labels for counted votes:')\n",
    "print(dict(zip(bin_labels_voting, bin_edges_voting)),'\\n')\n",
    "\n",
    "\n",
    "## classify the dataset into 4 groups by movie runtimes:\n",
    "bin_edges_runtime = [0, 30, 60, 120,df['runtime'].max()] # runtime categories from source: https://de.wikipedia.org/wiki/Filml%C3%A4nge\n",
    "bin_labels_runtime = ['short film', 'medium-length film', 'feature-length film', 'over-length film']\n",
    "\n",
    "df['runtime_class'] = pd.cut(df['runtime'], bin_edges_runtime, labels = bin_labels_runtime, include_lowest = True)\n",
    "print('Create a new group of labels for movie runtimes:')\n",
    "print(dict(zip(bin_labels_runtime, bin_edges_runtime)),'\\n')\n",
    "\n",
    "\n",
    "## classify the dataset into 4 groups by budget :\n",
    "bin_edges_budget = bin_edges('budget')\n",
    "bin_labels_budget = ['low', 'middle', 'higher', 'premium'] # no concrete source found here for budget criteria. So I use the different quantiles.\n",
    "\n",
    "df['budget_class'] = pd.cut(df['budget'], bin_edges_budget, labels = bin_labels_budget, include_lowest = True)\n",
    "print('Create a new group of labels for budget:')\n",
    "print(dict(zip(bin_labels_budget, bin_edges_budget)),'\\n')"
   ]
  },
  {
   "cell_type": "markdown",
   "metadata": {},
   "source": [
    "Alright, the additional labels are now also in the dataset for my personal references later.   \n",
    "  I have presented them here in some short dictionaries as an example what numbers are behind the specific labels."
   ]
  },
  {
   "cell_type": "code",
   "execution_count": 26,
   "metadata": {},
   "outputs": [],
   "source": [
    "# 7. Change the numbers of columns budget, revenue, winnings into millions:\n",
    "df['budget'] = df['budget'] / 1000000\n",
    "df['revenue'] = df['revenue'] / 1000000\n",
    "df['winnings'] = df['winnings'] / 1000000"
   ]
  },
  {
   "cell_type": "markdown",
   "metadata": {},
   "source": [
    "The numbers are now better readable for the viewer, when the exponents are gone for example in the top 10 charts or in the diagrams."
   ]
  },
  {
   "cell_type": "code",
   "execution_count": 27,
   "metadata": {},
   "outputs": [
    {
     "data": {
      "text/html": [
       "<div>\n",
       "<style scoped>\n",
       "    .dataframe tbody tr th:only-of-type {\n",
       "        vertical-align: middle;\n",
       "    }\n",
       "\n",
       "    .dataframe tbody tr th {\n",
       "        vertical-align: top;\n",
       "    }\n",
       "\n",
       "    .dataframe thead th {\n",
       "        text-align: right;\n",
       "    }\n",
       "</style>\n",
       "<table border=\"1\" class=\"dataframe\">\n",
       "  <thead>\n",
       "    <tr style=\"text-align: right;\">\n",
       "      <th></th>\n",
       "      <th>id</th>\n",
       "      <th>title</th>\n",
       "      <th>release_year</th>\n",
       "      <th>release_date</th>\n",
       "      <th>runtime</th>\n",
       "      <th>runtime_class</th>\n",
       "      <th>director</th>\n",
       "      <th>cast</th>\n",
       "      <th>genres</th>\n",
       "      <th>vote_average</th>\n",
       "      <th>rating_class</th>\n",
       "      <th>vote_count</th>\n",
       "      <th>vote_counts_class</th>\n",
       "      <th>revenue</th>\n",
       "      <th>budget</th>\n",
       "      <th>winnings</th>\n",
       "      <th>budget_class</th>\n",
       "      <th>production_companies</th>\n",
       "      <th>keywords</th>\n",
       "    </tr>\n",
       "  </thead>\n",
       "  <tbody>\n",
       "    <tr>\n",
       "      <th>0</th>\n",
       "      <td>135397</td>\n",
       "      <td>Jurassic World</td>\n",
       "      <td>2015</td>\n",
       "      <td>2015-06-09</td>\n",
       "      <td>124</td>\n",
       "      <td>over-length film</td>\n",
       "      <td>Colin Trevorrow</td>\n",
       "      <td>Chris Pratt|Bryce Dallas Howard|Irrfan Khan|Vi...</td>\n",
       "      <td>Action|Adventure|Science Fiction|Thriller</td>\n",
       "      <td>6.5</td>\n",
       "      <td>medium</td>\n",
       "      <td>5562</td>\n",
       "      <td>many</td>\n",
       "      <td>1513.528810</td>\n",
       "      <td>150.0</td>\n",
       "      <td>1363.528810</td>\n",
       "      <td>premium</td>\n",
       "      <td>Universal Studios|Amblin Entertainment|Legenda...</td>\n",
       "      <td>monster|dna|tyrannosaurus rex|velociraptor|island</td>\n",
       "    </tr>\n",
       "    <tr>\n",
       "      <th>1</th>\n",
       "      <td>76341</td>\n",
       "      <td>Mad Max: Fury Road</td>\n",
       "      <td>2015</td>\n",
       "      <td>2015-05-13</td>\n",
       "      <td>120</td>\n",
       "      <td>feature-length film</td>\n",
       "      <td>George Miller</td>\n",
       "      <td>Tom Hardy|Charlize Theron|Hugh Keays-Byrne|Nic...</td>\n",
       "      <td>Action|Adventure|Science Fiction|Thriller</td>\n",
       "      <td>7.1</td>\n",
       "      <td>high</td>\n",
       "      <td>6185</td>\n",
       "      <td>many</td>\n",
       "      <td>378.436354</td>\n",
       "      <td>150.0</td>\n",
       "      <td>228.436354</td>\n",
       "      <td>premium</td>\n",
       "      <td>Village Roadshow Pictures|Kennedy Miller Produ...</td>\n",
       "      <td>future|chase|post-apocalyptic|dystopia|australia</td>\n",
       "    </tr>\n",
       "    <tr>\n",
       "      <th>2</th>\n",
       "      <td>262500</td>\n",
       "      <td>Insurgent</td>\n",
       "      <td>2015</td>\n",
       "      <td>2015-03-18</td>\n",
       "      <td>119</td>\n",
       "      <td>feature-length film</td>\n",
       "      <td>Robert Schwentke</td>\n",
       "      <td>Shailene Woodley|Theo James|Kate Winslet|Ansel...</td>\n",
       "      <td>Adventure|Science Fiction|Thriller</td>\n",
       "      <td>6.3</td>\n",
       "      <td>medium</td>\n",
       "      <td>2480</td>\n",
       "      <td>many</td>\n",
       "      <td>295.238201</td>\n",
       "      <td>110.0</td>\n",
       "      <td>185.238201</td>\n",
       "      <td>premium</td>\n",
       "      <td>Summit Entertainment|Mandeville Films|Red Wago...</td>\n",
       "      <td>based on novel|revolution|dystopia|sequel|dyst...</td>\n",
       "    </tr>\n",
       "    <tr>\n",
       "      <th>3</th>\n",
       "      <td>140607</td>\n",
       "      <td>Star Wars: The Force Awakens</td>\n",
       "      <td>2015</td>\n",
       "      <td>2015-12-15</td>\n",
       "      <td>136</td>\n",
       "      <td>over-length film</td>\n",
       "      <td>J.J. Abrams</td>\n",
       "      <td>Harrison Ford|Mark Hamill|Carrie Fisher|Adam D...</td>\n",
       "      <td>Action|Adventure|Science Fiction|Fantasy</td>\n",
       "      <td>7.5</td>\n",
       "      <td>high</td>\n",
       "      <td>5292</td>\n",
       "      <td>many</td>\n",
       "      <td>2068.178225</td>\n",
       "      <td>200.0</td>\n",
       "      <td>1868.178225</td>\n",
       "      <td>premium</td>\n",
       "      <td>Lucasfilm|Truenorth Productions|Bad Robot</td>\n",
       "      <td>android|spaceship|jedi|space opera|3d</td>\n",
       "    </tr>\n",
       "    <tr>\n",
       "      <th>4</th>\n",
       "      <td>168259</td>\n",
       "      <td>Furious 7</td>\n",
       "      <td>2015</td>\n",
       "      <td>2015-04-01</td>\n",
       "      <td>137</td>\n",
       "      <td>over-length film</td>\n",
       "      <td>James Wan</td>\n",
       "      <td>Vin Diesel|Paul Walker|Jason Statham|Michelle ...</td>\n",
       "      <td>Action|Crime|Thriller</td>\n",
       "      <td>7.3</td>\n",
       "      <td>high</td>\n",
       "      <td>2947</td>\n",
       "      <td>many</td>\n",
       "      <td>1506.249360</td>\n",
       "      <td>190.0</td>\n",
       "      <td>1316.249360</td>\n",
       "      <td>premium</td>\n",
       "      <td>Universal Pictures|Original Film|Media Rights ...</td>\n",
       "      <td>car race|speed|revenge|suspense|car</td>\n",
       "    </tr>\n",
       "  </tbody>\n",
       "</table>\n",
       "</div>"
      ],
      "text/plain": [
       "       id                         title  release_year release_date  runtime  \\\n",
       "0  135397                Jurassic World          2015   2015-06-09      124   \n",
       "1   76341            Mad Max: Fury Road          2015   2015-05-13      120   \n",
       "2  262500                     Insurgent          2015   2015-03-18      119   \n",
       "3  140607  Star Wars: The Force Awakens          2015   2015-12-15      136   \n",
       "4  168259                     Furious 7          2015   2015-04-01      137   \n",
       "\n",
       "         runtime_class          director  \\\n",
       "0     over-length film   Colin Trevorrow   \n",
       "1  feature-length film     George Miller   \n",
       "2  feature-length film  Robert Schwentke   \n",
       "3     over-length film       J.J. Abrams   \n",
       "4     over-length film         James Wan   \n",
       "\n",
       "                                                cast  \\\n",
       "0  Chris Pratt|Bryce Dallas Howard|Irrfan Khan|Vi...   \n",
       "1  Tom Hardy|Charlize Theron|Hugh Keays-Byrne|Nic...   \n",
       "2  Shailene Woodley|Theo James|Kate Winslet|Ansel...   \n",
       "3  Harrison Ford|Mark Hamill|Carrie Fisher|Adam D...   \n",
       "4  Vin Diesel|Paul Walker|Jason Statham|Michelle ...   \n",
       "\n",
       "                                      genres  vote_average rating_class  \\\n",
       "0  Action|Adventure|Science Fiction|Thriller           6.5       medium   \n",
       "1  Action|Adventure|Science Fiction|Thriller           7.1         high   \n",
       "2         Adventure|Science Fiction|Thriller           6.3       medium   \n",
       "3   Action|Adventure|Science Fiction|Fantasy           7.5         high   \n",
       "4                      Action|Crime|Thriller           7.3         high   \n",
       "\n",
       "   vote_count vote_counts_class      revenue  budget     winnings  \\\n",
       "0        5562              many  1513.528810   150.0  1363.528810   \n",
       "1        6185              many   378.436354   150.0   228.436354   \n",
       "2        2480              many   295.238201   110.0   185.238201   \n",
       "3        5292              many  2068.178225   200.0  1868.178225   \n",
       "4        2947              many  1506.249360   190.0  1316.249360   \n",
       "\n",
       "  budget_class                               production_companies  \\\n",
       "0      premium  Universal Studios|Amblin Entertainment|Legenda...   \n",
       "1      premium  Village Roadshow Pictures|Kennedy Miller Produ...   \n",
       "2      premium  Summit Entertainment|Mandeville Films|Red Wago...   \n",
       "3      premium          Lucasfilm|Truenorth Productions|Bad Robot   \n",
       "4      premium  Universal Pictures|Original Film|Media Rights ...   \n",
       "\n",
       "                                            keywords  \n",
       "0  monster|dna|tyrannosaurus rex|velociraptor|island  \n",
       "1   future|chase|post-apocalyptic|dystopia|australia  \n",
       "2  based on novel|revolution|dystopia|sequel|dyst...  \n",
       "3              android|spaceship|jedi|space opera|3d  \n",
       "4                car race|speed|revenge|suspense|car  "
      ]
     },
     "execution_count": 27,
     "metadata": {},
     "output_type": "execute_result"
    }
   ],
   "source": [
    "# 8. Reorder all columns\n",
    "columns_reorderd = ['id','title','release_year','release_date','runtime','runtime_class', 'director','cast','genres','vote_average','rating_class', 'vote_count', 'vote_counts_class', 'revenue','budget','winnings','budget_class','production_companies', 'keywords']\n",
    "df = df.reindex(columns = columns_reorderd)\n",
    "df.head()"
   ]
  },
  {
   "cell_type": "markdown",
   "metadata": {},
   "source": [
    "The dataset is cleaned and in the right order for my personal view.  \n",
    "  So we can start with the EDA now."
   ]
  },
  {
   "cell_type": "markdown",
   "metadata": {},
   "source": [
    "<a id='eda'></a>\n",
    "# Exploratory Data Analysis"
   ]
  },
  {
   "cell_type": "markdown",
   "metadata": {},
   "source": [
    "## Question 1: Do the films with the highest budgets also bring in a high revenue? And what's about the winnings?"
   ]
  },
  {
   "cell_type": "markdown",
   "metadata": {},
   "source": [
    "### What are the most top 10 movies with the highest budgets?"
   ]
  },
  {
   "cell_type": "code",
   "execution_count": 28,
   "metadata": {},
   "outputs": [
    {
     "data": {
      "text/html": [
       "<div>\n",
       "<style scoped>\n",
       "    .dataframe tbody tr th:only-of-type {\n",
       "        vertical-align: middle;\n",
       "    }\n",
       "\n",
       "    .dataframe tbody tr th {\n",
       "        vertical-align: top;\n",
       "    }\n",
       "\n",
       "    .dataframe thead th {\n",
       "        text-align: right;\n",
       "    }\n",
       "</style>\n",
       "<table border=\"1\" class=\"dataframe\">\n",
       "  <thead>\n",
       "    <tr style=\"text-align: right;\">\n",
       "      <th></th>\n",
       "      <th>title</th>\n",
       "      <th>budget</th>\n",
       "    </tr>\n",
       "  </thead>\n",
       "  <tbody>\n",
       "    <tr>\n",
       "      <th>682</th>\n",
       "      <td>The Warrior's Way</td>\n",
       "      <td>425.0</td>\n",
       "    </tr>\n",
       "    <tr>\n",
       "      <th>1103</th>\n",
       "      <td>Pirates of the Caribbean: On Stranger Tides</td>\n",
       "      <td>380.0</td>\n",
       "    </tr>\n",
       "    <tr>\n",
       "      <th>2588</th>\n",
       "      <td>Pirates of the Caribbean: At World's End</td>\n",
       "      <td>300.0</td>\n",
       "    </tr>\n",
       "    <tr>\n",
       "      <th>14</th>\n",
       "      <td>Avengers: Age of Ultron</td>\n",
       "      <td>280.0</td>\n",
       "    </tr>\n",
       "    <tr>\n",
       "      <th>2256</th>\n",
       "      <td>Superman Returns</td>\n",
       "      <td>270.0</td>\n",
       "    </tr>\n",
       "    <tr>\n",
       "      <th>528</th>\n",
       "      <td>Tangled</td>\n",
       "      <td>260.0</td>\n",
       "    </tr>\n",
       "    <tr>\n",
       "      <th>1533</th>\n",
       "      <td>John Carter</td>\n",
       "      <td>260.0</td>\n",
       "    </tr>\n",
       "    <tr>\n",
       "      <th>2595</th>\n",
       "      <td>Spider-Man 3</td>\n",
       "      <td>258.0</td>\n",
       "    </tr>\n",
       "    <tr>\n",
       "      <th>1931</th>\n",
       "      <td>The Lone Ranger</td>\n",
       "      <td>255.0</td>\n",
       "    </tr>\n",
       "    <tr>\n",
       "      <th>347</th>\n",
       "      <td>Harry Potter and the Half-Blood Prince</td>\n",
       "      <td>250.0</td>\n",
       "    </tr>\n",
       "  </tbody>\n",
       "</table>\n",
       "</div>"
      ],
      "text/plain": [
       "                                            title  budget\n",
       "682                             The Warrior's Way   425.0\n",
       "1103  Pirates of the Caribbean: On Stranger Tides   380.0\n",
       "2588     Pirates of the Caribbean: At World's End   300.0\n",
       "14                        Avengers: Age of Ultron   280.0\n",
       "2256                             Superman Returns   270.0\n",
       "528                                       Tangled   260.0\n",
       "1533                                  John Carter   260.0\n",
       "2595                                 Spider-Man 3   258.0\n",
       "1931                              The Lone Ranger   255.0\n",
       "347        Harry Potter and the Half-Blood Prince   250.0"
      ]
     },
     "execution_count": 28,
     "metadata": {},
     "output_type": "execute_result"
    }
   ],
   "source": [
    "# show the top 10 movies with the highest budgets:\n",
    "df_sorted = df.sort_values(by = 'budget', ascending = False)\n",
    "df_top10_budget = df_sorted[['title','budget']].head(10)\n",
    "df_top10_budget"
   ]
  },
  {
   "cell_type": "markdown",
   "metadata": {},
   "source": [
    "It's pretty amazing to see the pretty high budgets for such blockbuster movies.   \n",
    "  In my personal view, I'm very suprised about the first place. Because it's the only movie of this top 10 list, I don't know and have not seen it."
   ]
  },
  {
   "cell_type": "markdown",
   "metadata": {},
   "source": [
    "### What are the most top 10 movies with the highest revenues?"
   ]
  },
  {
   "cell_type": "code",
   "execution_count": 29,
   "metadata": {},
   "outputs": [
    {
     "data": {
      "text/html": [
       "<div>\n",
       "<style scoped>\n",
       "    .dataframe tbody tr th:only-of-type {\n",
       "        vertical-align: middle;\n",
       "    }\n",
       "\n",
       "    .dataframe tbody tr th {\n",
       "        vertical-align: top;\n",
       "    }\n",
       "\n",
       "    .dataframe thead th {\n",
       "        text-align: right;\n",
       "    }\n",
       "</style>\n",
       "<table border=\"1\" class=\"dataframe\">\n",
       "  <thead>\n",
       "    <tr style=\"text-align: right;\">\n",
       "      <th></th>\n",
       "      <th>title</th>\n",
       "      <th>revenue</th>\n",
       "    </tr>\n",
       "  </thead>\n",
       "  <tbody>\n",
       "    <tr>\n",
       "      <th>344</th>\n",
       "      <td>Avatar</td>\n",
       "      <td>2781.505847</td>\n",
       "    </tr>\n",
       "    <tr>\n",
       "      <th>3</th>\n",
       "      <td>Star Wars: The Force Awakens</td>\n",
       "      <td>2068.178225</td>\n",
       "    </tr>\n",
       "    <tr>\n",
       "      <th>1767</th>\n",
       "      <td>Titanic</td>\n",
       "      <td>1845.034188</td>\n",
       "    </tr>\n",
       "    <tr>\n",
       "      <th>1488</th>\n",
       "      <td>The Avengers</td>\n",
       "      <td>1519.557910</td>\n",
       "    </tr>\n",
       "    <tr>\n",
       "      <th>0</th>\n",
       "      <td>Jurassic World</td>\n",
       "      <td>1513.528810</td>\n",
       "    </tr>\n",
       "    <tr>\n",
       "      <th>4</th>\n",
       "      <td>Furious 7</td>\n",
       "      <td>1506.249360</td>\n",
       "    </tr>\n",
       "    <tr>\n",
       "      <th>14</th>\n",
       "      <td>Avengers: Age of Ultron</td>\n",
       "      <td>1405.035767</td>\n",
       "    </tr>\n",
       "    <tr>\n",
       "      <th>1102</th>\n",
       "      <td>Harry Potter and the Deathly Hallows: Part 2</td>\n",
       "      <td>1327.817822</td>\n",
       "    </tr>\n",
       "    <tr>\n",
       "      <th>1857</th>\n",
       "      <td>Frozen</td>\n",
       "      <td>1274.219009</td>\n",
       "    </tr>\n",
       "    <tr>\n",
       "      <th>1860</th>\n",
       "      <td>Iron Man 3</td>\n",
       "      <td>1215.439994</td>\n",
       "    </tr>\n",
       "  </tbody>\n",
       "</table>\n",
       "</div>"
      ],
      "text/plain": [
       "                                             title      revenue\n",
       "344                                         Avatar  2781.505847\n",
       "3                     Star Wars: The Force Awakens  2068.178225\n",
       "1767                                       Titanic  1845.034188\n",
       "1488                                  The Avengers  1519.557910\n",
       "0                                   Jurassic World  1513.528810\n",
       "4                                        Furious 7  1506.249360\n",
       "14                         Avengers: Age of Ultron  1405.035767\n",
       "1102  Harry Potter and the Deathly Hallows: Part 2  1327.817822\n",
       "1857                                        Frozen  1274.219009\n",
       "1860                                    Iron Man 3  1215.439994"
      ]
     },
     "execution_count": 29,
     "metadata": {},
     "output_type": "execute_result"
    }
   ],
   "source": [
    "# show the top 10 movies with the highest revenue:\n",
    "df_sorted = df.sort_values(by = 'revenue', ascending = False)\n",
    "df_top10_revenue = df_sorted[['title','revenue']].head(10)\n",
    "df_top10_revenue"
   ]
  },
  {
   "cell_type": "markdown",
   "metadata": {},
   "source": [
    "Avatar on the first place of highest revenues was pretty clear in my opinion. The director (James Cameron) did a great job with Avatar and also showed with the jungle scenes, how intense 3D can be paired with excellent musical atmosphere. I get goose bumps just remembering back to it."
   ]
  },
  {
   "cell_type": "markdown",
   "metadata": {},
   "source": [
    "### What are the most top 10 movies with the highest winnings?"
   ]
  },
  {
   "cell_type": "code",
   "execution_count": 30,
   "metadata": {},
   "outputs": [
    {
     "data": {
      "text/html": [
       "<div>\n",
       "<style scoped>\n",
       "    .dataframe tbody tr th:only-of-type {\n",
       "        vertical-align: middle;\n",
       "    }\n",
       "\n",
       "    .dataframe tbody tr th {\n",
       "        vertical-align: top;\n",
       "    }\n",
       "\n",
       "    .dataframe thead th {\n",
       "        text-align: right;\n",
       "    }\n",
       "</style>\n",
       "<table border=\"1\" class=\"dataframe\">\n",
       "  <thead>\n",
       "    <tr style=\"text-align: right;\">\n",
       "      <th></th>\n",
       "      <th>title</th>\n",
       "      <th>winnings</th>\n",
       "    </tr>\n",
       "  </thead>\n",
       "  <tbody>\n",
       "    <tr>\n",
       "      <th>344</th>\n",
       "      <td>Avatar</td>\n",
       "      <td>2544.505847</td>\n",
       "    </tr>\n",
       "    <tr>\n",
       "      <th>3</th>\n",
       "      <td>Star Wars: The Force Awakens</td>\n",
       "      <td>1868.178225</td>\n",
       "    </tr>\n",
       "    <tr>\n",
       "      <th>1767</th>\n",
       "      <td>Titanic</td>\n",
       "      <td>1645.034188</td>\n",
       "    </tr>\n",
       "    <tr>\n",
       "      <th>0</th>\n",
       "      <td>Jurassic World</td>\n",
       "      <td>1363.528810</td>\n",
       "    </tr>\n",
       "    <tr>\n",
       "      <th>4</th>\n",
       "      <td>Furious 7</td>\n",
       "      <td>1316.249360</td>\n",
       "    </tr>\n",
       "    <tr>\n",
       "      <th>1488</th>\n",
       "      <td>The Avengers</td>\n",
       "      <td>1299.557910</td>\n",
       "    </tr>\n",
       "    <tr>\n",
       "      <th>1102</th>\n",
       "      <td>Harry Potter and the Deathly Hallows: Part 2</td>\n",
       "      <td>1202.817822</td>\n",
       "    </tr>\n",
       "    <tr>\n",
       "      <th>14</th>\n",
       "      <td>Avengers: Age of Ultron</td>\n",
       "      <td>1125.035767</td>\n",
       "    </tr>\n",
       "    <tr>\n",
       "      <th>1857</th>\n",
       "      <td>Frozen</td>\n",
       "      <td>1124.219009</td>\n",
       "    </tr>\n",
       "    <tr>\n",
       "      <th>2866</th>\n",
       "      <td>The Net</td>\n",
       "      <td>1084.279658</td>\n",
       "    </tr>\n",
       "  </tbody>\n",
       "</table>\n",
       "</div>"
      ],
      "text/plain": [
       "                                             title     winnings\n",
       "344                                         Avatar  2544.505847\n",
       "3                     Star Wars: The Force Awakens  1868.178225\n",
       "1767                                       Titanic  1645.034188\n",
       "0                                   Jurassic World  1363.528810\n",
       "4                                        Furious 7  1316.249360\n",
       "1488                                  The Avengers  1299.557910\n",
       "1102  Harry Potter and the Deathly Hallows: Part 2  1202.817822\n",
       "14                         Avengers: Age of Ultron  1125.035767\n",
       "1857                                        Frozen  1124.219009\n",
       "2866                                       The Net  1084.279658"
      ]
     },
     "execution_count": 30,
     "metadata": {},
     "output_type": "execute_result"
    }
   ],
   "source": [
    "# show the top 10 movies with the highest winnings:\n",
    "df_top10 = df.sort_values(by = 'winnings', ascending = False)\n",
    "df_top10_winnings = df_top10[['title','winnings']].head(10)\n",
    "df_top10_winnings.head(10)"
   ]
  },
  {
   "cell_type": "markdown",
   "metadata": {},
   "source": [
    "Ah, it looks mostly like the top 10 hit list in terms of revenue. Only a few positions have changed, like \"The Avengers\" for example.   \n",
    "  So we will compare both list together later to see, if there is a correlation between them."
   ]
  },
  {
   "cell_type": "markdown",
   "metadata": {},
   "source": [
    "### What are the most top 10 movies with the lowest winnings?"
   ]
  },
  {
   "cell_type": "code",
   "execution_count": 31,
   "metadata": {},
   "outputs": [
    {
     "data": {
      "text/html": [
       "<div>\n",
       "<style scoped>\n",
       "    .dataframe tbody tr th:only-of-type {\n",
       "        vertical-align: middle;\n",
       "    }\n",
       "\n",
       "    .dataframe tbody tr th {\n",
       "        vertical-align: top;\n",
       "    }\n",
       "\n",
       "    .dataframe thead th {\n",
       "        text-align: right;\n",
       "    }\n",
       "</style>\n",
       "<table border=\"1\" class=\"dataframe\">\n",
       "  <thead>\n",
       "    <tr style=\"text-align: right;\">\n",
       "      <th></th>\n",
       "      <th>title</th>\n",
       "      <th>winnings</th>\n",
       "      <th>budget</th>\n",
       "      <th>revenue</th>\n",
       "    </tr>\n",
       "  </thead>\n",
       "  <tbody>\n",
       "    <tr>\n",
       "      <th>682</th>\n",
       "      <td>The Warrior's Way</td>\n",
       "      <td>-413.912431</td>\n",
       "      <td>425.0</td>\n",
       "      <td>11.087569</td>\n",
       "    </tr>\n",
       "    <tr>\n",
       "      <th>1931</th>\n",
       "      <td>The Lone Ranger</td>\n",
       "      <td>-165.710090</td>\n",
       "      <td>255.0</td>\n",
       "      <td>89.289910</td>\n",
       "    </tr>\n",
       "    <tr>\n",
       "      <th>2472</th>\n",
       "      <td>The Alamo</td>\n",
       "      <td>-119.180039</td>\n",
       "      <td>145.0</td>\n",
       "      <td>25.819961</td>\n",
       "    </tr>\n",
       "    <tr>\n",
       "      <th>1196</th>\n",
       "      <td>Mars Needs Moms</td>\n",
       "      <td>-111.007242</td>\n",
       "      <td>150.0</td>\n",
       "      <td>38.992758</td>\n",
       "    </tr>\n",
       "    <tr>\n",
       "      <th>1667</th>\n",
       "      <td>Brother Bear</td>\n",
       "      <td>-99.999750</td>\n",
       "      <td>100.0</td>\n",
       "      <td>0.000250</td>\n",
       "    </tr>\n",
       "    <tr>\n",
       "      <th>721</th>\n",
       "      <td>The 13th Warrior</td>\n",
       "      <td>-98.301101</td>\n",
       "      <td>160.0</td>\n",
       "      <td>61.698899</td>\n",
       "    </tr>\n",
       "    <tr>\n",
       "      <th>1409</th>\n",
       "      <td>The Adventures of Pluto Nash</td>\n",
       "      <td>-92.896027</td>\n",
       "      <td>100.0</td>\n",
       "      <td>7.103973</td>\n",
       "    </tr>\n",
       "    <tr>\n",
       "      <th>2350</th>\n",
       "      <td>Charlotte's Web</td>\n",
       "      <td>-84.999856</td>\n",
       "      <td>85.0</td>\n",
       "      <td>0.000144</td>\n",
       "    </tr>\n",
       "    <tr>\n",
       "      <th>2273</th>\n",
       "      <td>Flushed Away</td>\n",
       "      <td>-84.540684</td>\n",
       "      <td>149.0</td>\n",
       "      <td>64.459316</td>\n",
       "    </tr>\n",
       "    <tr>\n",
       "      <th>971</th>\n",
       "      <td>Australia</td>\n",
       "      <td>-80.445998</td>\n",
       "      <td>130.0</td>\n",
       "      <td>49.554002</td>\n",
       "    </tr>\n",
       "  </tbody>\n",
       "</table>\n",
       "</div>"
      ],
      "text/plain": [
       "                             title    winnings  budget    revenue\n",
       "682              The Warrior's Way -413.912431   425.0  11.087569\n",
       "1931               The Lone Ranger -165.710090   255.0  89.289910\n",
       "2472                     The Alamo -119.180039   145.0  25.819961\n",
       "1196               Mars Needs Moms -111.007242   150.0  38.992758\n",
       "1667                  Brother Bear  -99.999750   100.0   0.000250\n",
       "721               The 13th Warrior  -98.301101   160.0  61.698899\n",
       "1409  The Adventures of Pluto Nash  -92.896027   100.0   7.103973\n",
       "2350               Charlotte's Web  -84.999856    85.0   0.000144\n",
       "2273                  Flushed Away  -84.540684   149.0  64.459316\n",
       "971                      Australia  -80.445998   130.0  49.554002"
      ]
     },
     "execution_count": 31,
     "metadata": {},
     "output_type": "execute_result"
    }
   ],
   "source": [
    "# show the top 10 movies with the lowest winnings:\n",
    "df_top10 = df.sort_values(by = 'winnings', ascending = True)\n",
    "df_top10_winnings = df_top10[['title','winnings', 'budget', 'revenue']].head(10)\n",
    "df_top10_winnings.head(10)"
   ]
  },
  {
   "cell_type": "markdown",
   "metadata": {},
   "source": [
    "Ok I better understand now, why I don't know the movie \"The Warrior's way\".  \n",
    "  It looks like it was a big flop in the cinemas, when we look at the winnings on this list."
   ]
  },
  {
   "cell_type": "markdown",
   "metadata": {},
   "source": [
    "### What are the average budgets, revenues and winnings by years?"
   ]
  },
  {
   "cell_type": "code",
   "execution_count": 32,
   "metadata": {},
   "outputs": [
    {
     "data": {
      "image/png": "[encoded data removed]",
      "text/plain": [
       "<Figure size 1152x432 with 1 Axes>"
      ]
     },
     "metadata": {
      "needs_background": "light"
     },
     "output_type": "display_data"
    }
   ],
   "source": [
    "# calculate the average budgets, revenues & winnings by years:\n",
    "## set the xticks in 5 years steps:\n",
    "x_axis = np.arange(df['release_year'].min(), df['release_year'].max()+1, 5)\n",
    "\n",
    "## create the plot:\n",
    "df_years_budget = df.groupby('release_year')['budget'].mean().plot(color = 'black', xticks = x_axis, figsize = (16,6))\n",
    "df_years_budget = df.groupby('release_year')['revenue'].mean().plot(color = 'blue')\n",
    "df_years_budget = df.groupby('release_year')['winnings'].mean().plot(color = 'green')\n",
    "\n",
    "# modify the title, labels and legend:\n",
    "plt.title('Average budgets, revenues and winnings by years', fontsize = 15)\n",
    "plt.xlabel('Years', fontsize = 15)\n",
    "plt.ylabel('Average amount [millions]', fontsize = 15)\n",
    "plt.legend();"
   ]
  },
  {
   "cell_type": "markdown",
   "metadata": {},
   "source": [
    "As we can see, all 3 variables (budgets, revenues, winnings) rises up over the years.   \n",
    "Only the budget keeps nearly the same level in the last few years of this diagram here. "
   ]
  },
  {
   "cell_type": "markdown",
   "metadata": {},
   "source": [
    "### Is there a correlation between budgets and revenues?"
   ]
  },
  {
   "cell_type": "code",
   "execution_count": 33,
   "metadata": {},
   "outputs": [
    {
     "data": {
      "image/png": "[encoded data removed]",
      "text/plain": [
       "<Figure size 504x504 with 1 Axes>"
      ]
     },
     "metadata": {
      "needs_background": "light"
     },
     "output_type": "display_data"
    }
   ],
   "source": [
    "# compare the budgets with the revenues in a scatterplot:\n",
    "##create the x and y values:\n",
    "x = df['revenue']\n",
    "y = df['budget']\n",
    "\n",
    "## plot and edit the scatterplot regarding to title and labels:\n",
    "plt.figure(figsize = (7,7))\n",
    "plt.scatter(x, y, color = 'blue', alpha = 0.5)\n",
    "plt.title('Comparison of revenues & budgets', fontsize = 15)\n",
    "plt.xlabel('Revenues [million]', fontsize = 12)\n",
    "plt.ylabel('Budgets [million]', fontsize = 12);"
   ]
  },
  {
   "cell_type": "markdown",
   "metadata": {},
   "source": [
    "It seems like there is a little trend to recognize. With a higher budget, more revenue can be generated.   \n",
    "  Note: To see it more clearly, I could use the least squares method (linear regression), but in this case of the Udacity project, it is not necessary as descriptive statistics will be covered in the next chapter of the Nanodegree."
   ]
  },
  {
   "cell_type": "markdown",
   "metadata": {},
   "source": [
    "### Is there a correlation between budgets and winnings?"
   ]
  },
  {
   "cell_type": "code",
   "execution_count": 34,
   "metadata": {},
   "outputs": [
    {
     "data": {
      "image/png": "[encoded data removed]",
      "text/plain": [
       "<Figure size 504x504 with 1 Axes>"
      ]
     },
     "metadata": {
      "needs_background": "light"
     },
     "output_type": "display_data"
    }
   ],
   "source": [
    "# compare from the movies the budget with the winnings in a scatterplot:\n",
    "##create the x and y values:\n",
    "x = df['budget']\n",
    "y = df['winnings']\n",
    "\n",
    "## plot and edit the scatterplot regarding to title and labels:\n",
    "plt.figure(figsize = (7,7))\n",
    "plt.scatter(x, y, color = 'blue', alpha = 0.5)\n",
    "plt.title('Comparison of budgets & winnings', fontsize = 15)\n",
    "plt.xlabel('Budgets [million]', fontsize = 12)\n",
    "plt.ylabel('Winnings [million]', fontsize = 12);"
   ]
  },
  {
   "cell_type": "markdown",
   "metadata": {},
   "source": [
    "Hm here it's also hard to say anything about the trend without using linear regression. So I will have a look at the next pairing between winnings and revenues"
   ]
  },
  {
   "cell_type": "markdown",
   "metadata": {},
   "source": [
    "### Is there a correlation winnings and revenues?"
   ]
  },
  {
   "cell_type": "code",
   "execution_count": 35,
   "metadata": {},
   "outputs": [
    {
     "data": {
      "image/png": "[encoded data removed]",
      "text/plain": [
       "<Figure size 504x504 with 1 Axes>"
      ]
     },
     "metadata": {
      "needs_background": "light"
     },
     "output_type": "display_data"
    }
   ],
   "source": [
    "# compare the winnings with the revenues in a scatterplot:\n",
    "##create the x and y values:\n",
    "x = df['revenue']\n",
    "y = df['winnings']\n",
    "\n",
    "## plot and edit the scatterplot regarding to title and labels:\n",
    "plt.figure(figsize = (7,7))\n",
    "plt.scatter(x, y, color = 'blue', alpha = 0.5)\n",
    "plt.title('Comparison of revenues & winnings', fontsize = 15)\n",
    "plt.xlabel('Revenues [million]', fontsize = 12)\n",
    "plt.ylabel('Winnings [million]', fontsize = 12);"
   ]
  },
  {
   "cell_type": "markdown",
   "metadata": {},
   "source": [
    "Ok, now it's pretty clear. In this chart we can clearly see the positive linear trend and therefore the correlation between both variables.   \n",
    "  Furthermore we can also see a pretty clear outlier, and that is our movie \"The Warrior's Way\" with a negative winning ammount of -413.912431 [millions]"
   ]
  },
  {
   "cell_type": "markdown",
   "metadata": {},
   "source": [
    "**Conclusion to question 1:**   \n",
    "- The films with the highest budget does not bring in automatically the highest revenues. Good example for that is the movie \"The Warrior's Way\".\n",
    "\n",
    "- The correlation between higher revenues and winnings is pretty clear to see."
   ]
  },
  {
   "cell_type": "markdown",
   "metadata": {},
   "source": [
    "## Question 2: Does the genre of a movie affect it's running time?"
   ]
  },
  {
   "cell_type": "markdown",
   "metadata": {},
   "source": [
    "### What are the average running times of films over the years?"
   ]
  },
  {
   "cell_type": "code",
   "execution_count": 36,
   "metadata": {
    "scrolled": false
   },
   "outputs": [
    {
     "data": {
      "image/png": "[encoded data removed]",
      "text/plain": [
       "<Figure size 1152x432 with 1 Axes>"
      ]
     },
     "metadata": {
      "needs_background": "light"
     },
     "output_type": "display_data"
    }
   ],
   "source": [
    "# plot the average runtime from movies by years:\n",
    "## set the xticks in 5 years steps:\n",
    "x_axis = np.arange(df['release_year'].min(), df['release_year'].max()+1, 5)\n",
    "\n",
    "## create a linechart, grouped by relesease years and edit the title and labels:\n",
    "df_years_runtime = df.groupby('release_year').agg({'runtime':'mean'}).plot(kind = 'line', xticks = x_axis, figsize = (16,6)) #try different coding style with agg\n",
    "plt.title('The mean runtime of movies by years', fontsize = 15)\n",
    "plt.xlabel('Years', fontsize = 12)\n",
    "plt.ylabel('Runtime [minutes]', fontsize = 12);"
   ]
  },
  {
   "cell_type": "markdown",
   "metadata": {},
   "source": [
    "In the early years, the length of the films increased to almost 170 minutes in the year 1965.   \n",
    "  But then it dropped again to a good level of 110 minutes over the years"
   ]
  },
  {
   "cell_type": "markdown",
   "metadata": {},
   "source": [
    "### How is the distribution of the genres regarding to the movies?"
   ]
  },
  {
   "cell_type": "code",
   "execution_count": 37,
   "metadata": {},
   "outputs": [
    {
     "data": {
      "image/png": "[encoded data removed]",
      "text/plain": [
       "<Figure size 1152x576 with 1 Axes>"
      ]
     },
     "metadata": {
      "needs_background": "light"
     },
     "output_type": "display_data"
    }
   ],
   "source": [
    "# split the genres from every movie and count it by each genre:\n",
    "## split all genres from every movie and add them to an addiitonal tempory df:\n",
    "df['genres_splitted'] = df['genres'].str.split('|')\n",
    "\n",
    "df_explode_genres = df.explode('genres_splitted')\n",
    "df_explode_genres.reset_index(drop = True, inplace = True)\n",
    "\n",
    "## count the unique values of the tempory df:\n",
    "df_expl_gen_count = df_explode_genres['genres_splitted'].value_counts()\n",
    "\n",
    "## Create a bar chart by count values, sorted by amount:\n",
    "df_expl_gen_count.sort_values(ascending = False).plot(kind ='bar', figsize = (16,8))\n",
    "plt.title('The counted values of genres regarding to the movies', fontsize = 15)\n",
    "plt.xlabel('Genres', fontsize = 12)\n",
    "plt.ylabel('Amount', fontsize = 12);"
   ]
  },
  {
   "cell_type": "markdown",
   "metadata": {},
   "source": [
    "The first place belongs to the genre \"Drama\", followed by \"Comedy\". This is a bit surprising for me, because I personally thought that genres like \"Action\", \"Adventure\" and also for example \"Family\" would be on the first places.   \n",
    "  In addition, there is a special genre 'TV Movie', which is quite low. I would like to see, which movie belongs to this genre. "
   ]
  },
  {
   "cell_type": "code",
   "execution_count": 38,
   "metadata": {},
   "outputs": [
    {
     "data": {
      "text/html": [
       "<div>\n",
       "<style scoped>\n",
       "    .dataframe tbody tr th:only-of-type {\n",
       "        vertical-align: middle;\n",
       "    }\n",
       "\n",
       "    .dataframe tbody tr th {\n",
       "        vertical-align: top;\n",
       "    }\n",
       "\n",
       "    .dataframe thead th {\n",
       "        text-align: right;\n",
       "    }\n",
       "</style>\n",
       "<table border=\"1\" class=\"dataframe\">\n",
       "  <thead>\n",
       "    <tr style=\"text-align: right;\">\n",
       "      <th></th>\n",
       "      <th>id</th>\n",
       "      <th>title</th>\n",
       "      <th>release_year</th>\n",
       "      <th>release_date</th>\n",
       "      <th>runtime</th>\n",
       "      <th>runtime_class</th>\n",
       "      <th>director</th>\n",
       "      <th>cast</th>\n",
       "      <th>genres</th>\n",
       "      <th>vote_average</th>\n",
       "      <th>rating_class</th>\n",
       "      <th>vote_count</th>\n",
       "      <th>vote_counts_class</th>\n",
       "      <th>revenue</th>\n",
       "      <th>budget</th>\n",
       "      <th>winnings</th>\n",
       "      <th>budget_class</th>\n",
       "      <th>production_companies</th>\n",
       "      <th>keywords</th>\n",
       "      <th>genres_splitted</th>\n",
       "    </tr>\n",
       "  </thead>\n",
       "  <tbody>\n",
       "    <tr>\n",
       "      <th>8169</th>\n",
       "      <td>15691</td>\n",
       "      <td>Doctor Who</td>\n",
       "      <td>1996</td>\n",
       "      <td>1996-05-14</td>\n",
       "      <td>89</td>\n",
       "      <td>feature-length film</td>\n",
       "      <td>Geoffrey Sax</td>\n",
       "      <td>Paul McGann|Eric Roberts|Daphne Ashbrook|Sylve...</td>\n",
       "      <td>TV Movie|Adventure|Drama|Science Fiction</td>\n",
       "      <td>5.6</td>\n",
       "      <td>very low</td>\n",
       "      <td>35</td>\n",
       "      <td>not relevant</td>\n",
       "      <td>42.0</td>\n",
       "      <td>5.0</td>\n",
       "      <td>37.0</td>\n",
       "      <td>low</td>\n",
       "      <td>Universal TV|20th Century Fox Television|BBC W...</td>\n",
       "      <td>clock|time|time travel|millenium|space</td>\n",
       "      <td>TV Movie</td>\n",
       "    </tr>\n",
       "  </tbody>\n",
       "</table>\n",
       "</div>"
      ],
      "text/plain": [
       "         id       title  release_year release_date  runtime  \\\n",
       "8169  15691  Doctor Who          1996   1996-05-14       89   \n",
       "\n",
       "            runtime_class      director  \\\n",
       "8169  feature-length film  Geoffrey Sax   \n",
       "\n",
       "                                                   cast  \\\n",
       "8169  Paul McGann|Eric Roberts|Daphne Ashbrook|Sylve...   \n",
       "\n",
       "                                        genres  vote_average rating_class  \\\n",
       "8169  TV Movie|Adventure|Drama|Science Fiction           5.6     very low   \n",
       "\n",
       "      vote_count vote_counts_class  revenue  budget  winnings budget_class  \\\n",
       "8169          35      not relevant     42.0     5.0      37.0          low   \n",
       "\n",
       "                                   production_companies  \\\n",
       "8169  Universal TV|20th Century Fox Television|BBC W...   \n",
       "\n",
       "                                    keywords genres_splitted  \n",
       "8169  clock|time|time travel|millenium|space        TV Movie  "
      ]
     },
     "execution_count": 38,
     "metadata": {},
     "output_type": "execute_result"
    }
   ],
   "source": [
    "#short insight of genre 'TV Movie':\n",
    "df_explode_genres[df_explode_genres['genres_splitted'] == 'TV Movie']"
   ]
  },
  {
   "cell_type": "markdown",
   "metadata": {},
   "source": [
    "It's just one movie of an old TV series called 'Doctor Who'. I know the series by name, but I have never seen it."
   ]
  },
  {
   "cell_type": "markdown",
   "metadata": {},
   "source": [
    "### What is the distribution of runtimes regarding to the different genres?"
   ]
  },
  {
   "cell_type": "code",
   "execution_count": 39,
   "metadata": {
    "scrolled": false
   },
   "outputs": [
    {
     "data": {
      "image/png": "[encoded data removed]",
      "text/plain": [
       "<Figure size 1152x576 with 1 Axes>"
      ]
     },
     "metadata": {
      "needs_background": "light"
     },
     "output_type": "display_data"
    }
   ],
   "source": [
    "# Use the tempory df to calculate the means by each genre:\n",
    "## create a bar chart by genres, sorted by runtime and edit the title and labels:\n",
    "df_explode_genres.groupby('genres_splitted')['runtime'].mean().sort_values(ascending = False).plot(kind ='bar', figsize = (16,8))\n",
    "plt.title('The mean runtime of movies by genres', fontsize = 15)\n",
    "plt.xlabel('Genres', fontsize = 12)\n",
    "plt.ylabel('Runtime [minutes]', fontsize = 12);"
   ]
  },
  {
   "cell_type": "markdown",
   "metadata": {},
   "source": [
    "As we can see here, there is a different range of runtimes in terms of each genre."
   ]
  },
  {
   "cell_type": "markdown",
   "metadata": {},
   "source": [
    "**Conclusion question 2:**\n",
    "- There is a range of different runtimes regarding to the specific genres.\n",
    "\n",
    "- The highest average running times are found in the genres 'History', 'War' and 'Western'.\n",
    "\n",
    "- Films with a shorter average running time are more often found in the genres 'Horror', 'Family', 'Animation' or 'TV Movie'."
   ]
  },
  {
   "cell_type": "markdown",
   "metadata": {},
   "source": [
    "## Question 3: Which specific genres brings the most winnings?  "
   ]
  },
  {
   "cell_type": "markdown",
   "metadata": {},
   "source": [
    "### What are the budgets of movies by genres?"
   ]
  },
  {
   "cell_type": "code",
   "execution_count": 40,
   "metadata": {},
   "outputs": [
    {
     "data": {
      "image/png": "[encoded data removed]",
      "text/plain": [
       "<Figure size 1152x576 with 1 Axes>"
      ]
     },
     "metadata": {
      "needs_background": "light"
     },
     "output_type": "display_data"
    }
   ],
   "source": [
    "#Calculate the budgets by genres:\n",
    "## use the already existing temporary df with exploded genres to calculate the budgets and plot it:\n",
    "df_explode_genres.groupby('genres_splitted')['budget'].mean().sort_values(ascending = False).plot(kind='bar', figsize = (16,8))\n",
    "\n",
    "## edit the title and labels:\n",
    "plt.title('The budgets of movies by genres', fontsize = 15)\n",
    "plt.xlabel('Genres', fontsize = 12)\n",
    "plt.ylabel('Budget [millions]', fontsize = 12);"
   ]
  },
  {
   "cell_type": "markdown",
   "metadata": {},
   "source": [
    "As we can see, the genre 'Animation' is at the first place in terms of budget.\n",
    "This is not surprising, since the creation and rendering of animated movies requires an immense amount of computing and design maintenance. On the other hand with a very low budget is the genre 'Documentary'."
   ]
  },
  {
   "cell_type": "markdown",
   "metadata": {},
   "source": [
    "### What are the revenues of movies by genres?"
   ]
  },
  {
   "cell_type": "code",
   "execution_count": 41,
   "metadata": {},
   "outputs": [
    {
     "data": {
      "image/png": "[encoded data removed]",
      "text/plain": [
       "<Figure size 1152x576 with 1 Axes>"
      ]
     },
     "metadata": {
      "needs_background": "light"
     },
     "output_type": "display_data"
    }
   ],
   "source": [
    "#Calculate the revenues by genres:\n",
    "## use the already existing temporary df with exploded genres to calculate the revenues and plot it:\n",
    "df_explode_genres.groupby('genres_splitted')['revenue'].mean().sort_values(ascending = False).plot(kind='bar', figsize = (16,8))\n",
    "\n",
    "## edit the title and labels:\n",
    "plt.title('The revenues of movies by genres', fontsize = 15)\n",
    "plt.xlabel('Genres', fontsize = 12)\n",
    "plt.ylabel('Revenues [millions]', fontsize = 12);"
   ]
  },
  {
   "cell_type": "markdown",
   "metadata": {},
   "source": [
    "Here we can see, that some positions of the different genres have swapped their places in this diagram, if we compare it with the budget chart before.   \n",
    "  But all in all, our statement regarding the correlation between budget and revenue in question 1 now becomes somewhat clearer."
   ]
  },
  {
   "cell_type": "markdown",
   "metadata": {},
   "source": [
    "### How big are the budgets and revenues of each movie by genres?"
   ]
  },
  {
   "cell_type": "code",
   "execution_count": 42,
   "metadata": {},
   "outputs": [
    {
     "data": {
      "image/png": "[encoded data removed]",
      "text/plain": [
       "<Figure size 1152x576 with 1 Axes>"
      ]
     },
     "metadata": {
      "needs_background": "light"
     },
     "output_type": "display_data"
    }
   ],
   "source": [
    "# create a bar chart, where all genres and their budgets overlap with revenues:\n",
    "## create a bar chart by genre, sorted by revenue with their budgets and winnings:\n",
    "df_expl_gen_mean = df_explode_genres.groupby('genres_splitted')[['revenue', 'budget', 'winnings']].mean().sort_values(by= ['revenue'],  ascending = False)\n",
    "\n",
    "## plot both columns in an overlapping diagram:\n",
    "df_expl_gen_mean['revenue'].plot(kind='bar', alpha = 0.7, color = 'black', label = 'Revenue', figsize = (16,8))\n",
    "df_expl_gen_mean['budget'].plot(kind='bar', alpha = 0.6, color = 'red', label = 'Budget', figsize = (16,8))\n",
    "\n",
    "## edit the title and labels:\n",
    "plt.title('The revenues and budgets of movies by genres', fontsize = 15)\n",
    "plt.xlabel('Genres', fontsize = 12)\n",
    "plt.ylabel('Revenues and budgets [millions]', fontsize = 12)\n",
    "plt.legend();"
   ]
  },
  {
   "cell_type": "markdown",
   "metadata": {},
   "source": [
    "In a direct comparison of revenues and budgets, I'm also a little surprised at the big difference between these two variables.   \n",
    "  And we're talking about numbers divided by a million here.   \n",
    "    So that brings us to our next step and we already know what's coming."
   ]
  },
  {
   "cell_type": "markdown",
   "metadata": {},
   "source": [
    "### How big are the winnings and revenues of each movie by genres?"
   ]
  },
  {
   "cell_type": "code",
   "execution_count": 43,
   "metadata": {},
   "outputs": [
    {
     "data": {
      "image/png": "[encoded data removed]",
      "text/plain": [
       "<Figure size 1152x576 with 1 Axes>"
      ]
     },
     "metadata": {
      "needs_background": "light"
     },
     "output_type": "display_data"
    }
   ],
   "source": [
    "# create a bar chart, where all genres and their budgets overlap with winnings:\n",
    "## plot both columns in an overlapping diagram:\n",
    "df_expl_gen_mean['revenue'].plot(kind='bar', alpha = 0.6, color = 'black', label = 'Revenue', figsize = (16,8))\n",
    "df_expl_gen_mean['winnings'].plot(kind='bar', alpha = 0.7, color = 'green', label = 'Winning', figsize = (16,8))\n",
    "\n",
    "## edit the title and labels:\n",
    "plt.title('The revenues and budgets of movies by genres', fontsize = 15)\n",
    "plt.xlabel('Genres', fontsize = 12)\n",
    "plt.ylabel('Revenues and budgets [millions]', fontsize = 12)\n",
    "plt.legend();"
   ]
  },
  {
   "cell_type": "markdown",
   "metadata": {},
   "source": [
    "In my personal opinion, it's pretty amazing to see these amounts of winnings here. This supports my opinion again regarding the genre 'Animation', that this movies are really very profitable.\n",
    "\n",
    "What I'm also a little bit surprised about is the one movie in the genre 'TV Movie' again.  \n",
    "  The percentage of winning in relation to revenue seems to be quite high. "
   ]
  },
  {
   "cell_type": "code",
   "execution_count": 44,
   "metadata": {},
   "outputs": [
    {
     "name": "stdout",
     "output_type": "stream",
     "text": [
      "The percentage of profit in relation to revenue is 88.10% in the genre \"TV Movie\".\n"
     ]
    }
   ],
   "source": [
    "# percentage winning with the genre 'TV Movie' in relation to revenue:\n",
    "## prepare both values and calculate it:\n",
    "tv_revenue = float(df_explode_genres[df_explode_genres['genres_splitted'] == 'TV Movie']['revenue'])\n",
    "tv_winning = float(df_explode_genres[df_explode_genres['genres_splitted'] == 'TV Movie']['winnings'])\n",
    "\n",
    "percentage = tv_winning*100/tv_revenue\n",
    "\n",
    "## print the result:\n",
    "print('The percentage of profit in relation to revenue is {:.2f}% in the genre \"TV Movie\".'.format(percentage))"
   ]
  },
  {
   "cell_type": "markdown",
   "metadata": {},
   "source": [
    "### Short summary - plotting a grouped bar chart with revenue, winning and budget:"
   ]
  },
  {
   "cell_type": "code",
   "execution_count": 45,
   "metadata": {},
   "outputs": [
    {
     "data": {
      "text/html": [
       "<div>\n",
       "<style scoped>\n",
       "    .dataframe tbody tr th:only-of-type {\n",
       "        vertical-align: middle;\n",
       "    }\n",
       "\n",
       "    .dataframe tbody tr th {\n",
       "        vertical-align: top;\n",
       "    }\n",
       "\n",
       "    .dataframe thead th {\n",
       "        text-align: right;\n",
       "    }\n",
       "</style>\n",
       "<table border=\"1\" class=\"dataframe\">\n",
       "  <thead>\n",
       "    <tr style=\"text-align: right;\">\n",
       "      <th></th>\n",
       "      <th>revenue</th>\n",
       "      <th>budget</th>\n",
       "      <th>winnings</th>\n",
       "    </tr>\n",
       "    <tr>\n",
       "      <th>genres_splitted</th>\n",
       "      <th></th>\n",
       "      <th></th>\n",
       "      <th></th>\n",
       "    </tr>\n",
       "  </thead>\n",
       "  <tbody>\n",
       "    <tr>\n",
       "      <th>Animation</th>\n",
       "      <td>257.121500</td>\n",
       "      <td>76.936473</td>\n",
       "      <td>180.185028</td>\n",
       "    </tr>\n",
       "    <tr>\n",
       "      <th>Adventure</th>\n",
       "      <td>218.291851</td>\n",
       "      <td>69.938913</td>\n",
       "      <td>148.352938</td>\n",
       "    </tr>\n",
       "    <tr>\n",
       "      <th>Fantasy</th>\n",
       "      <td>218.234134</td>\n",
       "      <td>70.717402</td>\n",
       "      <td>147.516733</td>\n",
       "    </tr>\n",
       "    <tr>\n",
       "      <th>Family</th>\n",
       "      <td>203.153547</td>\n",
       "      <td>62.479156</td>\n",
       "      <td>140.674391</td>\n",
       "    </tr>\n",
       "    <tr>\n",
       "      <th>Science Fiction</th>\n",
       "      <td>163.933127</td>\n",
       "      <td>55.986815</td>\n",
       "      <td>107.946311</td>\n",
       "    </tr>\n",
       "    <tr>\n",
       "      <th>Action</th>\n",
       "      <td>156.577157</td>\n",
       "      <td>56.440443</td>\n",
       "      <td>100.136714</td>\n",
       "    </tr>\n",
       "    <tr>\n",
       "      <th>War</th>\n",
       "      <td>106.032070</td>\n",
       "      <td>42.255840</td>\n",
       "      <td>63.776230</td>\n",
       "    </tr>\n",
       "    <tr>\n",
       "      <th>Thriller</th>\n",
       "      <td>97.740463</td>\n",
       "      <td>37.294600</td>\n",
       "      <td>60.445863</td>\n",
       "    </tr>\n",
       "    <tr>\n",
       "      <th>Comedy</th>\n",
       "      <td>97.336566</td>\n",
       "      <td>33.109057</td>\n",
       "      <td>64.227509</td>\n",
       "    </tr>\n",
       "    <tr>\n",
       "      <th>Mystery</th>\n",
       "      <td>91.045775</td>\n",
       "      <td>35.063730</td>\n",
       "      <td>55.982045</td>\n",
       "    </tr>\n",
       "    <tr>\n",
       "      <th>Western</th>\n",
       "      <td>87.412921</td>\n",
       "      <td>52.834885</td>\n",
       "      <td>34.578036</td>\n",
       "    </tr>\n",
       "    <tr>\n",
       "      <th>Romance</th>\n",
       "      <td>85.748008</td>\n",
       "      <td>27.275335</td>\n",
       "      <td>58.472673</td>\n",
       "    </tr>\n",
       "    <tr>\n",
       "      <th>Crime</th>\n",
       "      <td>84.143092</td>\n",
       "      <td>33.035741</td>\n",
       "      <td>51.107351</td>\n",
       "    </tr>\n",
       "    <tr>\n",
       "      <th>Music</th>\n",
       "      <td>82.667588</td>\n",
       "      <td>25.782059</td>\n",
       "      <td>56.885528</td>\n",
       "    </tr>\n",
       "    <tr>\n",
       "      <th>History</th>\n",
       "      <td>81.405236</td>\n",
       "      <td>40.705216</td>\n",
       "      <td>40.700021</td>\n",
       "    </tr>\n",
       "    <tr>\n",
       "      <th>Drama</th>\n",
       "      <td>74.327266</td>\n",
       "      <td>28.052383</td>\n",
       "      <td>46.274883</td>\n",
       "    </tr>\n",
       "    <tr>\n",
       "      <th>Horror</th>\n",
       "      <td>57.287804</td>\n",
       "      <td>18.566308</td>\n",
       "      <td>38.721495</td>\n",
       "    </tr>\n",
       "    <tr>\n",
       "      <th>TV Movie</th>\n",
       "      <td>42.000000</td>\n",
       "      <td>5.000000</td>\n",
       "      <td>37.000000</td>\n",
       "    </tr>\n",
       "    <tr>\n",
       "      <th>Documentary</th>\n",
       "      <td>22.524400</td>\n",
       "      <td>4.852976</td>\n",
       "      <td>17.671424</td>\n",
       "    </tr>\n",
       "    <tr>\n",
       "      <th>Foreign</th>\n",
       "      <td>11.115958</td>\n",
       "      <td>9.430669</td>\n",
       "      <td>1.685289</td>\n",
       "    </tr>\n",
       "  </tbody>\n",
       "</table>\n",
       "</div>"
      ],
      "text/plain": [
       "                    revenue     budget    winnings\n",
       "genres_splitted                                   \n",
       "Animation        257.121500  76.936473  180.185028\n",
       "Adventure        218.291851  69.938913  148.352938\n",
       "Fantasy          218.234134  70.717402  147.516733\n",
       "Family           203.153547  62.479156  140.674391\n",
       "Science Fiction  163.933127  55.986815  107.946311\n",
       "Action           156.577157  56.440443  100.136714\n",
       "War              106.032070  42.255840   63.776230\n",
       "Thriller          97.740463  37.294600   60.445863\n",
       "Comedy            97.336566  33.109057   64.227509\n",
       "Mystery           91.045775  35.063730   55.982045\n",
       "Western           87.412921  52.834885   34.578036\n",
       "Romance           85.748008  27.275335   58.472673\n",
       "Crime             84.143092  33.035741   51.107351\n",
       "Music             82.667588  25.782059   56.885528\n",
       "History           81.405236  40.705216   40.700021\n",
       "Drama             74.327266  28.052383   46.274883\n",
       "Horror            57.287804  18.566308   38.721495\n",
       "TV Movie          42.000000   5.000000   37.000000\n",
       "Documentary       22.524400   4.852976   17.671424\n",
       "Foreign           11.115958   9.430669    1.685289"
      ]
     },
     "execution_count": 45,
     "metadata": {},
     "output_type": "execute_result"
    },
    {
     "data": {
      "image/png": "[encoded data removed]",
      "text/plain": [
       "<Figure size 1152x576 with 1 Axes>"
      ]
     },
     "metadata": {
      "needs_background": "light"
     },
     "output_type": "display_data"
    }
   ],
   "source": [
    "# little bonus - create a grouped bar chart regarding to revenues, winnings, budget:\n",
    "## creating the grouped bar chart:\n",
    "df_expl_gen_mean[['revenue', 'winnings','budget']].plot(kind='bar', alpha = 0.6, color = ['black', 'green','red'], figsize = (16,8))\n",
    "\n",
    "## edit the title and labels:\n",
    "plt.title('The revenues, winnings and budgets movies by genres', fontsize = 15)\n",
    "plt.xlabel('Genres', fontsize = 12)\n",
    "plt.ylabel('Revenues, winnings, budgets [millions]', fontsize = 12)\n",
    "label = ['Reveneue', 'Winning', 'Budget']\n",
    "plt.legend(label);\n",
    "\n",
    "## shows the table above the chart:\n",
    "df_expl_gen_mean"
   ]
  },
  {
   "cell_type": "markdown",
   "metadata": {},
   "source": [
    "Here's a again short summary using a grouped bar chart."
   ]
  },
  {
   "cell_type": "markdown",
   "metadata": {},
   "source": [
    "### Does the revenues also got a strong correlation to winnings by movie genres?"
   ]
  },
  {
   "cell_type": "code",
   "execution_count": 46,
   "metadata": {},
   "outputs": [
    {
     "data": {
      "image/png": "[encoded data removed]",
      "text/plain": [
       "<Figure size 504x504 with 1 Axes>"
      ]
     },
     "metadata": {
      "needs_background": "light"
     },
     "output_type": "display_data"
    }
   ],
   "source": [
    "# compare the winnings with the revenue by genres in a scatterplot:\n",
    "## create the x and y values:\n",
    "x = df_explode_genres.groupby('genres_splitted')['revenue'].mean()\n",
    "y = df_explode_genres.groupby('genres_splitted')['winnings'].mean()\n",
    "\n",
    "## plot and edit the scatterplot regarding to title and labels:\n",
    "plt.figure(figsize = (7,7))\n",
    "plt.scatter(x, y, color = 'blue', alpha = 0.5)\n",
    "plt.title('Comparison of revenues & winnings', fontsize = 15)\n",
    "plt.xlabel('Revenues [million]', fontsize = 12)\n",
    "plt.ylabel('Winnings [million]', fontsize = 12);"
   ]
  },
  {
   "cell_type": "markdown",
   "metadata": {},
   "source": [
    "This is indeed the case. We can clearly see the same correlation as in question 1, but now with the averaging of revenues and winnings across different genres."
   ]
  },
  {
   "cell_type": "markdown",
   "metadata": {},
   "source": [
    "**Conlusion question 3:**\n",
    "- The genre with the most winnings (180.18 Million) is 'Animation'. \n",
    "\n",
    "- We can clearly see the same correlation as in question 1, but now with the averaging of revenues and winnings across different genres."
   ]
  },
  {
   "cell_type": "markdown",
   "metadata": {},
   "source": [
    "## Bonus questions:"
   ]
  },
  {
   "cell_type": "markdown",
   "metadata": {},
   "source": [
    "### What are the characteristics of the most casted actor?"
   ]
  },
  {
   "cell_type": "markdown",
   "metadata": {},
   "source": [
    "#### What are the top 10 actors:"
   ]
  },
  {
   "cell_type": "code",
   "execution_count": 47,
   "metadata": {},
   "outputs": [
    {
     "name": "stdout",
     "output_type": "stream",
     "text": [
      "The top 10 favorite actors in the movies are:\n",
      "Robert De Niro        52\n",
      "Bruce Willis          46\n",
      "Samuel L. Jackson     44\n",
      "Nicolas Cage          43\n",
      "Matt Damon            36\n",
      "Johnny Depp           35\n",
      "Tom Hanks             34\n",
      "Morgan Freeman        34\n",
      "Sylvester Stallone    34\n",
      "Brad Pitt             34\n",
      "dtype: int64\n"
     ]
    }
   ],
   "source": [
    "# figure out the top 10 actors:\n",
    "## split the cast and count the values of the actors:\n",
    "actors_splitted = pd.Series(df['cast'].str.cat(sep = '|').split('|'))\n",
    "actor_counts = actors_splitted.value_counts(ascending = False)\n",
    "\n",
    "## print the top 10 of the most casted actors in movies:\n",
    "print('The top 10 favorite actors in the movies are:\\n{}'.format(actor_counts.head(10)))"
   ]
  },
  {
   "cell_type": "markdown",
   "metadata": {},
   "source": [
    "The mosted casted actor is Robert De Niro."
   ]
  },
  {
   "cell_type": "markdown",
   "metadata": {},
   "source": [
    "#### Was he only in high-budget films during his career?"
   ]
  },
  {
   "cell_type": "code",
   "execution_count": 48,
   "metadata": {
    "scrolled": false
   },
   "outputs": [
    {
     "data": {
      "image/png": "[encoded data removed]",
      "text/plain": [
       "<Figure size 1080x504 with 1 Axes>"
      ]
     },
     "metadata": {
      "needs_background": "light"
     },
     "output_type": "display_data"
    }
   ],
   "source": [
    "# create a scatterplot within all budgets of his movies during the years:\n",
    "## split the Dataset by the cast, explode it and reset the index:\n",
    "df['cast_splitted'] = df['cast'].str.split('|')\n",
    "df_explode_cast = df.explode('cast_splitted')\n",
    "df_explode_cast.reset_index(drop = True, inplace = True)\n",
    "\n",
    "## prepare a filter for Robert De Niro:\n",
    "De_Niro = df_explode_cast['cast_splitted'] == 'Robert De Niro'\n",
    "df_1 = df_explode_cast[De_Niro]\n",
    "\n",
    "## prepare and plot the result in a scatterplot:\n",
    "x = df_1['release_date']\n",
    "y = df_1['budget']\n",
    "\n",
    "plt.figure(figsize = (15,7))\n",
    "plt.scatter(x, y)\n",
    "\n",
    "## edit the title and labels:\n",
    "plt.title('All budgets of movies with Robert De Niro during the years', fontsize = 15)\n",
    "plt.xlabel('Years', fontsize = 12)\n",
    "plt.ylabel('Budgets [million]', fontsize = 12);"
   ]
  },
  {
   "cell_type": "markdown",
   "metadata": {},
   "source": [
    "As we can see, Robert De Niro has acted throughout all different amount of budgets films until the end.\n",
    "\n",
    "So let's see in which kind of different movie budget cases he acted the most:"
   ]
  },
  {
   "cell_type": "code",
   "execution_count": 49,
   "metadata": {},
   "outputs": [
    {
     "name": "stdout",
     "output_type": "stream",
     "text": [
      "The total amount of Robert De Niro movies are: 52\n",
      "\n",
      "The sorted list of different movie budget classes are:\n",
      "['low', 'middle', 'higher', 'premium']\n",
      "\n",
      "The amount for each labels are:\n",
      "[3, 11, 19, 19]\n",
      "\n",
      "The percentages of each label are:\n",
      "low : 5.77 %\n",
      "middle : 21.15 %\n",
      "higher : 36.54 %\n",
      "premium : 36.54 %\n"
     ]
    },
    {
     "data": {
      "image/png": "[encoded data removed]",
      "text/plain": [
       "<Figure size 432x288 with 1 Axes>"
      ]
     },
     "metadata": {
      "needs_background": "light"
     },
     "output_type": "display_data"
    }
   ],
   "source": [
    "# calculate the percentages of the different budget classes for Robert De Niro:\n",
    "## calculate the total amount of his movies and create a sorted list from low - premium:\n",
    "total = df_1['title'].count()\n",
    "list_budgets = ['low', 'middle', 'higher', 'premium']\n",
    "\n",
    "print('The total amount of Robert De Niro movies are: {}\\n'.format(total))\n",
    "print('The sorted list of different movie budget classes are:\\n{}\\n'.format(list_budgets))\n",
    "\n",
    "\n",
    "## iterate through the list_budgets to get the specific amount of each budget class:\n",
    "results =[]\n",
    "for i in list_budgets:\n",
    "    results.append(df_1[df_1['budget_class'] == i]['title'].count())\n",
    "\n",
    "print('The amount for each labels are:\\n{}\\n'.format(results))\n",
    "\n",
    "\n",
    "## iterate the specific label results to calculate the percentage and round them up:\n",
    "x = 0\n",
    "percentages = []\n",
    "\n",
    "for x in results:\n",
    "    middle_step = x*100/total\n",
    "    round(middle_step, 2)\n",
    "    percentages.append(str(round(middle_step, 2)))\n",
    "\n",
    "    \n",
    "## create a dictionary, zip both lists together and print it:\n",
    "final = dict(zip(list_budgets, percentages))\n",
    "\n",
    "print('The percentages of each label are:')\n",
    "for i in final:\n",
    "    print(i ,':', final[i],'%')\n",
    "\n",
    "\n",
    "## prepare the names and heights of the bar chart:\n",
    "names = list(final.keys())\n",
    "heights = list(final.values())\n",
    "\n",
    "\n",
    "##plot and edit the bar chart:\n",
    "plt.bar(names, heights, label = names)\n",
    "plt.title('Distribution in percentages of different movie budget classes for Robert De Niro:', fontsize = 15)\n",
    "plt.xlabel('Movie budget classes', fontsize = 12)\n",
    "plt.ylabel('Percentage [%]', fontsize = 12);"
   ]
  },
  {
   "cell_type": "markdown",
   "metadata": {},
   "source": [
    "Ok wow, it's quite the same percentage of 36.54% regarding to higher and also premium movies.\n",
    "\n",
    "But to give it a better view at this stats, I will also plot it as an exploded pie chart:"
   ]
  },
  {
   "cell_type": "code",
   "execution_count": 50,
   "metadata": {},
   "outputs": [
    {
     "data": {
      "image/png": "[encoded data removed]",
      "text/plain": [
       "<Figure size 432x288 with 1 Axes>"
      ]
     },
     "metadata": {},
     "output_type": "display_data"
    }
   ],
   "source": [
    "#plot also a pie chart for the result as a bonus view:\n",
    "\n",
    "## prepare the names and values\n",
    "names = list(final.keys())\n",
    "values = list(final.values())\n",
    "\n",
    "## bring in other colors and exploding values:\n",
    "color = ['lightcoral', 'darkorange', 'lightseagreen', 'springgreen'] \n",
    "explode_values = (0.05 ,0.05 ,0.05 ,0.05) \n",
    "\n",
    "## plot the pie chart and edit the title, numbers, legend:\n",
    "plt.pie(values, autopct='%1.2f%%', colors = color, explode = explode_values, textprops={'color':\"black\"})\n",
    "plt.title('Distribution in percentages of different movie budget classes for Robert De Niro:', fontsize = 15)\n",
    "plt.legend(title = 'Budget classes:', loc = 'right', labels = names, bbox_to_anchor=(1, 0, 0.5, 1));"
   ]
  },
  {
   "cell_type": "markdown",
   "metadata": {},
   "source": [
    " We can clearly see now, that Robert De Niro's focus was on higher and premium budget movies."
   ]
  },
  {
   "cell_type": "markdown",
   "metadata": {},
   "source": [
    "Note: For editing the exploded pie chart as an bonus view on top, I used documentation inputs of different sources which I linked below.   \n",
    "  These are also notes for myself in the future:\n",
    "\n",
    "[color table link](https://matplotlib.org/stable/gallery/color/named_colors.html)\n",
    "\n",
    "[explode hint](https://www.geeksforgeeks.org/plot-a-pie-chart-in-python-using-matplotlib/)\n",
    "\n",
    "[numbers with clear amount of digits](https://stackoverflow.com/questions/44076203/getting-percentages-in-legend-from-pie-matplotlib-pie-chart)\n",
    "\n",
    "[possible change of textcolor](https://stackoverflow.com/questions/27898830/python-how-to-change-autopct-text-color-to-be-white-in-a-pie-chart)\n",
    "\n",
    "[moving legend labels](https://matplotlib.org/stable/gallery/pie_and_polar_charts/pie_and_donut_labels.htmly)"
   ]
  },
  {
   "cell_type": "markdown",
   "metadata": {},
   "source": [
    "#### What is the distribution of Robert De Niro's average votings for his movies?"
   ]
  },
  {
   "cell_type": "code",
   "execution_count": 51,
   "metadata": {},
   "outputs": [
    {
     "name": "stdout",
     "output_type": "stream",
     "text": [
      "Robert De Niro's average votings for his movies:\n",
      "- The min of average votes:  4.00 \n",
      "- The mean of average votes: 6.40 \n",
      "- The max of average votes:  8.10 \n"
     ]
    },
    {
     "data": {
      "image/png": "[encoded data removed]",
      "text/plain": [
       "<Figure size 720x720 with 1 Axes>"
      ]
     },
     "metadata": {
      "needs_background": "light"
     },
     "output_type": "display_data"
    }
   ],
   "source": [
    "# average votings for movies with Robert De Niro:\n",
    "## split the cast and create a new temporary df for it:\n",
    "df['cast_splitted'] = df['cast'].str.split('|')\n",
    "df_explode_cast = df.explode('cast_splitted')\n",
    "df_explode_cast.reset_index(drop = True, inplace = True)\n",
    "\n",
    "## prepare a filter for Robert De Niro:\n",
    "De_Niro = df_explode_cast['cast_splitted'] == 'Robert De Niro'\n",
    "df_1 = df_explode_cast[De_Niro]\n",
    "\n",
    "## prepare, plot and edit the histogram:\n",
    "df_1['vote_average'].hist(figsize =(10,10));\n",
    "plt.title('Average votes for movies with actor Robert De Niro', fontsize=15)\n",
    "plt.xlabel('Average votes', fontsize=15)\n",
    "plt.ylabel('Amount of votes', fontsize=15);\n",
    "\n",
    "## print his min, mean and mav average votes:\n",
    "print(\"Robert De Niro's average votings for his movies:\")\n",
    "print('- The min of average votes:  {:.2f} '.format(df_1['vote_average'].min()))\n",
    "print('- The mean of average votes: {:.2f} '.format(df_1['vote_average'].mean()))\n",
    "print('- The max of average votes:  {:.2f} '.format(df_1['vote_average'].max()))"
   ]
  },
  {
   "cell_type": "markdown",
   "metadata": {},
   "source": [
    "#### What are the mean average votings from Robert De Niro by different movie budget classes?"
   ]
  },
  {
   "cell_type": "code",
   "execution_count": 52,
   "metadata": {
    "scrolled": true
   },
   "outputs": [
    {
     "name": "stdout",
     "output_type": "stream",
     "text": [
      "The mean average voting different budget classes of movies are: budget_class\n",
      "low        6.766667\n",
      "middle     6.727273\n",
      "higher     6.447368\n",
      "premium    6.100000\n",
      "Name: vote_average, dtype: float64\n"
     ]
    },
    {
     "data": {
      "image/png": "[encoded data removed]",
      "text/plain": [
       "<Figure size 1080x360 with 1 Axes>"
      ]
     },
     "metadata": {
      "needs_background": "light"
     },
     "output_type": "display_data"
    }
   ],
   "source": [
    "# Mean average votings for Robert De Niro by different budget classes of movies:\n",
    "## show the average votings for each budget class:\n",
    "df_1_budget_voting = (df_1.groupby('budget_class').vote_average.mean())\n",
    "print('The mean average voting different budget classes of movies are: {}'.format(df_1_budget_voting))\n",
    "\n",
    "## create a bar chart sorted by budget, grouped by budget class and calculated the mean average voting:\n",
    "df_1.sort_values('budget').groupby('budget_class').vote_average.mean().plot(kind = 'bar', figsize = (15,5))\n",
    "\n",
    "## edit the title and labels:\n",
    "plt.title('Mean average votings for Robert De Niro by different budget classes of movies', fontsize = 15)\n",
    "plt.xticks(rotation = 0)\n",
    "plt.xlabel('Movie budget classes', fontsize = 12)\n",
    "plt.ylabel('Average votings', fontsize = 12);"
   ]
  },
  {
   "cell_type": "markdown",
   "metadata": {},
   "source": [
    "**Conclusion regarding to Robert de Niro:**\n",
    "- He is the actor with the most movies (52) in this datasset.\n",
    "- He has acted throughout all different amount of budgets films until the end.\n",
    "- But his focus has been on higher budget and also premium movies with the same percentage of 36.54%.\n",
    "- The average vote ranges from a minimum of 4.00 to an average of 6.40 to a maximum of 8.10.\n",
    "- The average rating in each budget class ranges from low 6.77 to medium 6.72 to higher 6.44 and finally to premium 6.1."
   ]
  },
  {
   "cell_type": "markdown",
   "metadata": {},
   "source": [
    "## Finally, here are some further general questions with short answers at the end:"
   ]
  },
  {
   "cell_type": "markdown",
   "metadata": {},
   "source": [
    "### What is the distribution of movie runtimes within their runtime labels?"
   ]
  },
  {
   "cell_type": "code",
   "execution_count": 53,
   "metadata": {},
   "outputs": [
    {
     "name": "stdout",
     "output_type": "stream",
     "text": [
      "Distribution of the films according to their lenghts:\n",
      "feature-length film    2966\n",
      "over-length film        885\n",
      "short film                2\n",
      "medium-length film        1\n",
      "Name: runtime_class, dtype: int64\n",
      "\n"
     ]
    }
   ],
   "source": [
    "# distribution of the films according to their lenghts:\n",
    "## count the runtime_classes\n",
    "runtime_counts = df['runtime_class'].value_counts()\n",
    "\n",
    "## print the counted results:\n",
    "print('Distribution of the films according to their lenghts:\\n{}\\n'.format(runtime_counts))"
   ]
  },
  {
   "cell_type": "code",
   "execution_count": 54,
   "metadata": {},
   "outputs": [],
   "source": [
    "# create a bonus function for some example charts, to plot every value in a bar chart later:   \n",
    "## edited the range and y_list[i] from the original code:\n",
    "def add_value_label(x_list,y_list):\n",
    "    for i in range(len(x_list)):\n",
    "        plt.text(i,y_list[i],y_list[i], ha=\"center\")"
   ]
  },
  {
   "cell_type": "markdown",
   "metadata": {},
   "source": [
    "Note: Used the source code above from this [link](https://www.delftstack.com/howto/matplotlib/add-value-labels-on-matplotlib-bar-chart/)    \n",
    "  These is also a note for myself in the future.\n"
   ]
  },
  {
   "cell_type": "code",
   "execution_count": 55,
   "metadata": {},
   "outputs": [
    {
     "data": {
      "image/png": "[encoded data removed]",
      "text/plain": [
       "<Figure size 1080x720 with 1 Axes>"
      ]
     },
     "metadata": {
      "needs_background": "light"
     },
     "output_type": "display_data"
    }
   ],
   "source": [
    "# create a bar chart for that and change the title and labels:\n",
    "## prepare labels and heights for numbers in plot later:\n",
    "runtime_labels = df['runtime_class'].unique()\n",
    "runtime_heights = runtime_counts\n",
    "\n",
    "## plot the bar chart and eddit the title and labels:\n",
    "runtime_counts.plot(kind = 'bar', figsize = (15,10))\n",
    "plt.title('Distribution of movie runtimes by their runtime labels', fontsize=15)\n",
    "\n",
    "plt.xlabel('Runtime labels', fontsize = 12)\n",
    "plt.ylabel('Amount of labels', fontsize = 12)\n",
    "\n",
    "## bring in the numbers in the plottet bar chart by the bonus function:\n",
    "add_value_label(runtime_labels, runtime_heights);"
   ]
  },
  {
   "cell_type": "markdown",
   "metadata": {},
   "source": [
    "### What is the distribution of movie voting counts labels?"
   ]
  },
  {
   "cell_type": "code",
   "execution_count": 56,
   "metadata": {},
   "outputs": [
    {
     "name": "stdout",
     "output_type": "stream",
     "text": [
      "Distribution of the ratings classes:\n",
      "very low    1104\n",
      "low          940\n",
      "medium       907\n",
      "high         903\n",
      "Name: rating_class, dtype: int64\n",
      "\n"
     ]
    }
   ],
   "source": [
    "# distribution of ratings classes:\n",
    "## count the rating classes and print it:\n",
    "ratings_counts = df['rating_class'].value_counts()\n",
    "\n",
    "print('Distribution of the ratings classes:\\n{}\\n'.format(ratings_counts))"
   ]
  },
  {
   "cell_type": "code",
   "execution_count": 57,
   "metadata": {},
   "outputs": [
    {
     "data": {
      "image/png": "[encoded data removed]",
      "text/plain": [
       "<Figure size 432x288 with 1 Axes>"
      ]
     },
     "metadata": {
      "needs_background": "light"
     },
     "output_type": "display_data"
    }
   ],
   "source": [
    "## prepare labels and heights for numbers in plot later:\n",
    "rating_labels = df['rating_class'].unique()\n",
    "rating_heights = ratings_counts\n",
    "\n",
    "## plot the bar chart and eddit the title and labels:\n",
    "plt.bar(rating_labels, rating_heights, width = 0.5)\n",
    "\n",
    "plt.title('Distribution of movie by ratings classes', fontsize = 15)\n",
    "plt.xticks(rotation = 60)\n",
    "plt.xlabel('Rating labels', fontsize = 12)\n",
    "plt.ylabel('Amount of labels', fontsize = 12)\n",
    "\n",
    "## bring in the numbers in the plottet bar chart by the bonus function:\n",
    "add_value_label(rating_labels, rating_heights);"
   ]
  },
  {
   "cell_type": "markdown",
   "metadata": {},
   "source": [
    "### What is the distribution of rating classes groubpy counted votes? "
   ]
  },
  {
   "cell_type": "code",
   "execution_count": 58,
   "metadata": {},
   "outputs": [
    {
     "name": "stdout",
     "output_type": "stream",
     "text": [
      "Distribution of rating classes groupby counted votes:\n",
      "                                title\n",
      "vote_counts_class rating_class       \n",
      "not relevant      very low        417\n",
      "                  low             244\n",
      "                  medium          207\n",
      "                  high            101\n",
      "few               very low        336\n",
      "                  low             239\n",
      "                  medium          229\n",
      "                  high            156\n",
      "middle            very low        257\n",
      "                  low             275\n",
      "                  medium          219\n",
      "                  high            211\n",
      "many              very low         94\n",
      "                  low             182\n",
      "                  medium          252\n",
      "                  high            435\n",
      "\n"
     ]
    }
   ],
   "source": [
    "# distribution of ratings groupby counted votes:\n",
    "## groupby voted counts classes and vote rating classes. Count it with an alternative coding style using agg.:\n",
    "ratings_groupby_votes = df.groupby(['vote_counts_class','rating_class']).agg({'title':'count'})\n",
    "\n",
    "## print the result:\n",
    "print('Distribution of rating classes groupby counted votes:\\n{}\\n'.format(ratings_groupby_votes))"
   ]
  },
  {
   "cell_type": "code",
   "execution_count": 59,
   "metadata": {},
   "outputs": [
    {
     "data": {
      "image/png": "[encoded data removed]",
      "text/plain": [
       "<Figure size 1080x720 with 1 Axes>"
      ]
     },
     "metadata": {
      "needs_background": "light"
     },
     "output_type": "display_data"
    }
   ],
   "source": [
    "## plot the results from above:\n",
    "ratings_groupby_votes.plot(kind = 'bar', legend = None, figsize = (15,10))\n",
    "\n",
    "## edit the title and the labels: \n",
    "plt.title('Distribution of rating classes groupby counted votes',fontsize = 15)\n",
    "plt.xlabel('Rating classes & counted votes', fontsize = 12)\n",
    "plt.ylabel('Amount of labels', fontsize = 12);"
   ]
  },
  {
   "cell_type": "markdown",
   "metadata": {},
   "source": [
    "### Who are the top 20 production companies of movies with \"many\" counted votes and a \"premium\" budget? "
   ]
  },
  {
   "cell_type": "code",
   "execution_count": 60,
   "metadata": {},
   "outputs": [
    {
     "name": "stdout",
     "output_type": "stream",
     "text": [
      "The top 20 production companies with \"many\" as counted vote label and \"premium\" as budget label:\n"
     ]
    },
    {
     "data": {
      "text/plain": [
       "Warner Bros.                              76\n",
       "Universal Pictures                        61\n",
       "Paramount Pictures                        50\n",
       "Twentieth Century Fox Film Corporation    49\n",
       "Columbia Pictures                         46\n",
       "Walt Disney Pictures                      45\n",
       "DreamWorks SKG                            28\n",
       "Legendary Pictures                        26\n",
       "Relativity Media                          26\n",
       "Village Roadshow Pictures                 24\n",
       "DreamWorks Animation                      22\n",
       "Amblin Entertainment                      22\n",
       "Dune Entertainment                        19\n",
       "Jerry Bruckheimer Films                   16\n",
       "New Line Cinema                           16\n",
       "Pixar Animation Studios                   15\n",
       "Original Film                             14\n",
       "Touchstone Pictures                       14\n",
       "Scott Free Productions                    13\n",
       "Columbia Pictures Corporation             13\n",
       "Name: production_companies, dtype: int64"
      ]
     },
     "execution_count": 60,
     "metadata": {},
     "output_type": "execute_result"
    }
   ],
   "source": [
    "# find the top 20 production companies with labels \"many\" & \"premium\":\n",
    "## create the query with vote_count_label \"many\" & budget_level \"premium\":\n",
    "df_many_premium = df.query('vote_counts_class == \"many\" & budget_class == \"premium\"')\n",
    "\n",
    "##print the headline:\n",
    "print('The top 20 production companies with \"many\" as counted vote label and \"premium\" as budget label:')\n",
    "\n",
    "## split the queried dataframe by production companies, explode them, count the values and show the top 20 list:\n",
    "df_many_premium['production_companies'].str.split('|').explode('production_companies').value_counts().head(20)"
   ]
  },
  {
   "cell_type": "markdown",
   "metadata": {},
   "source": [
    "<a id='conclusions'></a>\n",
    "# Conclusions"
   ]
  },
  {
   "cell_type": "markdown",
   "metadata": {},
   "source": [
    "## Limitation:"
   ]
  },
  {
   "cell_type": "markdown",
   "metadata": {},
   "source": [
    "- There are a large number of zeros in the Cast, Director, Keywords, Genre and Production Companies columns where they have been replaced with the word \"Unknown\" to save as much data as possible with budget or revenue.\n",
    "\n",
    "- Movies with 0 budget (54.43%), 0 revenue (55.37%) or with 0 runtime (0.29%) simply make a huge amount of useless data. For this reason, only 35.47% of the data rows are left (not counting duplicate rows). Under real conditions I would search for another dataset to fill in the missing data via join.\n",
    "\n",
    "So with this limitations, only 3854 rows remain in the cleaned dataset. This is not as representative as the old data set, but on the other hand, the old data set would have had a large impact on various statements and results. "
   ]
  },
  {
   "cell_type": "markdown",
   "metadata": {},
   "source": [
    "## Conclusion to each main question:"
   ]
  },
  {
   "cell_type": "markdown",
   "metadata": {},
   "source": [
    "**Question 1:**   \n",
    "- The films with the highest budget does not bring in automatically the highest revenues. Good example for that is the movie \"The Warrior's Way\".\n",
    "\n",
    "- The correlation between higher revenues and winnings is pretty clear to see.\n",
    "\n",
    "\n",
    "**Question 2:**   \n",
    "- There is a range of different runtimes regarding to the specific genres.\n",
    "\n",
    "- The highest average running times are found in the genres 'History', 'War' and 'Western'.\n",
    "\n",
    "- Films with a shorter average running time are more often found in the genres 'Horror', 'Family', 'Animation' or 'TV Movie'.\n",
    "\n",
    "\n",
    "**Question 3:**   \n",
    "- The genre with the most winnings (180.18 Million) is 'Animation'. \n",
    "\n",
    "- We can clearly see the same correlation as in question 1, but now with the averaging of revenues and winnings across different genres.\n",
    "\n",
    "**Bonus Question with Robert de Niro:**\n",
    "- He is the actor with the most movies (52) in this datasset.\n",
    "\n",
    "- He has acted throughout all different amount of budgets films until the end.\n",
    "\n",
    "- But his focus has been on higher budget and also premium movies with the same percentage of 36.54%.\n",
    "\n",
    "- The average vote ranges from a minimum of 4.00 to an average of 6.40 to a maximum of 8.10.\n",
    "\n",
    "- The average rating in each budget class ranges from low 6.77 to medium 6.72 to higher 6.44 and finally to premium 6.1."
   ]
  },
  {
   "cell_type": "markdown",
   "metadata": {},
   "source": [
    "## Created by Stefan Menauer"
   ]
  }
 ],
 "metadata": {
  "kernelspec": {
   "display_name": "Python 3 (ipykernel)",
   "language": "python",
   "name": "python3"
  },
  "language_info": {
   "codemirror_mode": {
    "name": "ipython",
    "version": 3
   },
   "file_extension": ".py",
   "mimetype": "text/x-python",
   "name": "python",
   "nbconvert_exporter": "python",
   "pygments_lexer": "ipython3",
   "version": "3.8.12"
  }
 },
 "nbformat": 4,
 "nbformat_minor": 2
}
